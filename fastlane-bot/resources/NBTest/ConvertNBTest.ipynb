{
 "cells": [
  {
   "cell_type": "code",
   "execution_count": 1,
   "id": "439cb109",
   "metadata": {},
   "outputs": [],
   "source": [
    "from fls import *\n",
    "import sys\n",
    "import os\n",
    "import re\n",
    "from collections import namedtuple\n",
    "__VERSION__ = \"1.4 [fastlane]\"\n",
    "__DATE__ = \"07/May/2023\""
   ]
  },
  {
   "cell_type": "markdown",
   "id": "2b5b07e2",
   "metadata": {},
   "source": [
    "# Convert NBTest\n",
    "\n",
    "Converts files `NBTest_9999_Comment.py -> test_9999_Comment.py` suitable for `pytest`"
   ]
  },
  {
   "cell_type": "code",
   "execution_count": 2,
   "id": "3a724746",
   "metadata": {},
   "outputs": [
    {
     "name": "stdout",
     "output_type": "stream",
     "text": [
      "NBTestConvert v1.3.1 [fastlane] 30/Apr/2023\n"
     ]
    }
   ],
   "source": [
    "print(f\"NBTestConvert v{__VERSION__} {__DATE__}\")"
   ]
  },
  {
   "cell_type": "code",
   "execution_count": 3,
   "id": "51e64aeb",
   "metadata": {},
   "outputs": [],
   "source": [
    "NOTEST_DEFAULT=\"TEST\"\n",
    "LIBRARY = \"fastlane_bot\""
   ]
  },
  {
   "cell_type": "markdown",
   "id": "22f88afc",
   "metadata": {},
   "source": [
    "## Get script path and set paths"
   ]
  },
  {
   "cell_type": "code",
   "execution_count": 4,
   "id": "96fdbec3",
   "metadata": {},
   "outputs": [
    {
     "data": {
      "text/plain": [
       "['/Users/skl/opt/anaconda3/lib/python3.8/site-packages',\n",
       " 'ipykernel_launcher.py']"
      ]
     },
     "execution_count": 4,
     "metadata": {},
     "output_type": "execute_result"
    }
   ],
   "source": [
    "sys.argv[0].rsplit(\"/\", maxsplit=1)"
   ]
  },
  {
   "cell_type": "code",
   "execution_count": 5,
   "id": "b7ddebc8",
   "metadata": {},
   "outputs": [
    {
     "data": {
      "text/plain": [
       "'ipykernel_launcher.py'"
      ]
     },
     "execution_count": 5,
     "metadata": {},
     "output_type": "execute_result"
    }
   ],
   "source": [
    "sys.argv[0].rsplit(\"/\", maxsplit=1)[-1]"
   ]
  },
  {
   "cell_type": "code",
   "execution_count": 6,
   "id": "7a4dd5d6",
   "metadata": {},
   "outputs": [],
   "source": [
    "if sys.argv[0].rsplit(\"/\", maxsplit=1)[-1]==\"ipykernel_launcher.py\":\n",
    "    JUPYTER = True\n",
    "    SCRIPTPATH = os.getcwd()\n",
    "else:\n",
    "    JUPYTER = False\n",
    "    SCRIPTPATH = os.path.dirname(os.path.realpath(sys.argv[0]))"
   ]
  },
  {
   "cell_type": "code",
   "execution_count": 7,
   "id": "0c8d723b",
   "metadata": {},
   "outputs": [
    {
     "name": "stdout",
     "output_type": "stream",
     "text": [
      "/Users/skl/REPOES/Bancor/ArbBot/resources/NBTest/../../fastlane_bot/tests/nbtest\n"
     ]
    }
   ],
   "source": [
    "SRCPATH = os.path.join(SCRIPTPATH, \"\")\n",
    "TRGPATH = os.path.join(SCRIPTPATH, f\"../../{LIBRARY}/tests/nbtest\")\n",
    "print(TRGPATH)"
   ]
  },
  {
   "cell_type": "code",
   "execution_count": 8,
   "id": "b3fb3cff",
   "metadata": {},
   "outputs": [
    {
     "name": "stdout",
     "output_type": "stream",
     "text": [
      "JUPYTER True\n",
      "SCRIPTPATH /Users/skl/REPOES/Bancor/ArbBot/resources/NBTest\n",
      "SRCPATH /Users/skl/REPOES/Bancor/ArbBot/resources/NBTest/\n",
      "TRGPATH /Users/skl/REPOES/Bancor/ArbBot/resources/NBTest/../../fastlane_bot/tests/nbtest\n",
      "---\n"
     ]
    }
   ],
   "source": [
    "print(\"JUPYTER\", JUPYTER)\n",
    "print(\"SCRIPTPATH\", SCRIPTPATH)\n",
    "print(\"SRCPATH\", SRCPATH)\n",
    "print(\"TRGPATH\", TRGPATH)\n",
    "print(\"---\")"
   ]
  },
  {
   "cell_type": "markdown",
   "id": "119d110f",
   "metadata": {},
   "source": [
    "## Generate the list of files"
   ]
  },
  {
   "cell_type": "code",
   "execution_count": 9,
   "id": "553fbebb",
   "metadata": {},
   "outputs": [
    {
     "data": {
      "text/plain": [
       "['.gitignore',\n",
       " '.ipynb_checkpoints',\n",
       " 'ConvertNBTest.ipynb',\n",
       " 'ConvertNBTest.py',\n",
       " 'NBTest_000_Template.ipynb',\n",
       " 'NBTest_000_Template.py',\n",
       " 'NBTest_002_ContractHelper.ipynb',\n",
       " 'NBTest_002_ContractHelper.py',\n",
       " 'NBTest_003_PoolManager.ipynb',\n",
       " 'NBTest_003_PoolManager.py',\n",
       " 'NBTest_004_TokenManager.ipynb',\n",
       " 'NBTest_004_TokenManager.py',\n",
       " 'NBTest_005_AggregatCarbonTrades.ipynb',\n",
       " 'NBTest_005_AggregatCarbonTrades.py',\n",
       " 'NBTest_006_GetPriceMap.ipynb',\n",
       " 'NBTest_006_GetPriceMap.py',\n",
       " 'NBTest_007_TopNpoolsOnexchange.ipynb',\n",
       " 'NBTest_007_TopNpoolsOnexchange.py',\n",
       " 'NBTest_008_TxHelper.ipynb',\n",
       " 'NBTest_008_TxHelper.py',\n",
       " 'NBTest_063b_Optimizer.ipynb',\n",
       " 'NBTest_063b_Optimizer.py',\n",
       " 'SKLTesting.ipynb',\n",
       " 'SKLTesting.py',\n",
       " '__pycache__',\n",
       " 'carbon',\n",
       " 'fastlane_bot',\n",
       " 'fls.py',\n",
       " 'jupytext-metadata-template.ipynb',\n",
       " 'jupytext-metadata-template.py',\n",
       " '~$opt.xlsx']"
      ]
     },
     "execution_count": 9,
     "metadata": {},
     "output_type": "execute_result"
    }
   ],
   "source": [
    "rawlist = os.listdir(SRCPATH)\n",
    "rawlist.sort()\n",
    "rawlist"
   ]
  },
  {
   "cell_type": "code",
   "execution_count": 10,
   "id": "71dc0630",
   "metadata": {},
   "outputs": [
    {
     "data": {
      "text/plain": [
       "datarecord_nt(tid='0000', comment='Bla', fn='NBTest_0000_Bla.py', outfn='test_0000_Bla.py')"
      ]
     },
     "execution_count": 10,
     "metadata": {},
     "output_type": "execute_result"
    }
   ],
   "source": [
    "dr_nt = namedtuple(\"datarecord_nt\", \"tid, comment, fn, outfn\")\n",
    "def filterfn(fn):\n",
    "    \"\"\"\n",
    "    takes fn and returns either filelist_nt or None \n",
    "    \"\"\"\n",
    "    nxsplit = fn.rsplit(\".\", maxsplit=1)\n",
    "    if len(nxsplit) < 2: return None\n",
    "    if not(nxsplit[1].lower()==\"py\"): return None\n",
    "    fnsplit = nxsplit[0].split(\"_\")\n",
    "    if not len(fnsplit) in [2,3]: return None\n",
    "    if not fnsplit[0] == \"NBTest\": return None\n",
    "    tid = fnsplit[1]\n",
    "    try:\n",
    "        comment = fnsplit[2]\n",
    "    except IndexError:\n",
    "        comment = \"\"\n",
    "    outfn = f\"test_{tid}_{comment}.py\"\n",
    "    return dr_nt(tid=tid, comment=comment, fn=fn, outfn=outfn)\n",
    "\n",
    "assert filterfn(\"README\") is None\n",
    "assert filterfn(\"NBTest_0000_Bla.ipynb\") is None\n",
    "assert filterfn(\"NBTest_0000.py\")\n",
    "assert filterfn(\"Test_0000_Bla.py\") is None\n",
    "assert filterfn(\"NBTest_1.10.4_Bla.py\").tid == \"1.10.4\"\n",
    "assert filterfn(\"NBTest_1.py\").comment == \"\"\n",
    "filterfn(\"NBTest_0000_Bla.py\")"
   ]
  },
  {
   "cell_type": "code",
   "execution_count": 11,
   "id": "e86139a7",
   "metadata": {},
   "outputs": [
    {
     "data": {
      "text/plain": [
       "(datarecord_nt(tid='000', comment='Template', fn='NBTest_000_Template.py', outfn='test_000_Template.py'),\n",
       " datarecord_nt(tid='002', comment='ContractHelper', fn='NBTest_002_ContractHelper.py', outfn='test_002_ContractHelper.py'),\n",
       " datarecord_nt(tid='003', comment='PoolManager', fn='NBTest_003_PoolManager.py', outfn='test_003_PoolManager.py'),\n",
       " datarecord_nt(tid='004', comment='TokenManager', fn='NBTest_004_TokenManager.py', outfn='test_004_TokenManager.py'),\n",
       " datarecord_nt(tid='005', comment='AggregatCarbonTrades', fn='NBTest_005_AggregatCarbonTrades.py', outfn='test_005_AggregatCarbonTrades.py'),\n",
       " datarecord_nt(tid='006', comment='GetPriceMap', fn='NBTest_006_GetPriceMap.py', outfn='test_006_GetPriceMap.py'),\n",
       " datarecord_nt(tid='007', comment='TopNpoolsOnexchange', fn='NBTest_007_TopNpoolsOnexchange.py', outfn='test_007_TopNpoolsOnexchange.py'),\n",
       " datarecord_nt(tid='008', comment='TxHelper', fn='NBTest_008_TxHelper.py', outfn='test_008_TxHelper.py'),\n",
       " datarecord_nt(tid='063b', comment='Optimizer', fn='NBTest_063b_Optimizer.py', outfn='test_063b_Optimizer.py'))"
      ]
     },
     "execution_count": 11,
     "metadata": {},
     "output_type": "execute_result"
    }
   ],
   "source": [
    "fnlst = (filterfn(fn) for fn in rawlist)\n",
    "fnlst = tuple(r for r in fnlst if not r is None)\n",
    "#fnlst = (fnlst[1],)\n",
    "fnlst"
   ]
  },
  {
   "cell_type": "markdown",
   "id": "23841ca4",
   "metadata": {},
   "source": [
    "## Process files"
   ]
  },
  {
   "cell_type": "code",
   "execution_count": 12,
   "id": "5541fc2c",
   "metadata": {},
   "outputs": [],
   "source": [
    "def funcn(title):\n",
    "    \"\"\"\n",
    "    converts a title into a function name\n",
    "    \n",
    "    NOTE\n",
    "    \n",
    "    \"This is a title [TEST]\"     -> test_this_is_a_title\n",
    "    \"This is a title [NOTEST]\"   -> notest_this_is_a_title\n",
    "    \"This is a title\"            -> depends on NOTEST_DEFAULT global\n",
    "    \"\"\"\n",
    "    global NOTEST_DEFAULT\n",
    "    #print(\"[funcn] NOTEST_DEFAULT\", NOTEST_DEFAULT)\n",
    "    \n",
    "    title = title.strip()\n",
    "    if title[-8:] == \"[NOTEST]\":\n",
    "        notest = True\n",
    "        title = title[:-8].strip()\n",
    "    elif title[-6:] == \"[TEST]\":\n",
    "        notest = False\n",
    "        title = title[:-6].strip()\n",
    "    else:\n",
    "        notest = True if NOTEST_DEFAULT == \"NOTEST\" else False \n",
    "        \n",
    "        \n",
    "    prefix = \"notest_\" if notest else \"test_\"\n",
    "\n",
    "        \n",
    "    funcn = title.lower()\n",
    "    funcn = funcn.replace(\" \", \"_\")\n",
    "    funcn = prefix+funcn\n",
    "    return funcn\n",
    "\n",
    "assert funcn(\" Title [TEST]  \") == \"test_title\"\n",
    "assert funcn(\" Title [NOTEST] \") == \"notest_title\"\n",
    "assert funcn(\" Title  \") == \"notest_title\" if NOTEST_DEFAULT==\"NOTEST\" else \"test_title\"\n",
    "assert funcn(\" Advanced Testing [TEST]  \") == \"test_advanced_testing\"\n",
    "assert funcn(\" A notest title [NOTEST] \") == \"notest_a_notest_title\"\n",
    "#funcn(\"Asserting that the radius computes correctly\")"
   ]
  },
  {
   "cell_type": "code",
   "execution_count": 13,
   "id": "49a6c4d7",
   "metadata": {},
   "outputs": [
    {
     "data": {
      "text/plain": [
       "'notest_a_notest_title'"
      ]
     },
     "execution_count": 13,
     "metadata": {},
     "output_type": "execute_result"
    }
   ],
   "source": [
    "funcn(\"A notest title [NOTEST]\")"
   ]
  },
  {
   "cell_type": "code",
   "execution_count": 14,
   "id": "233d86a2",
   "metadata": {},
   "outputs": [],
   "source": [
    "def process_code(code, dr, srcpath=None, trgpath=None):\n",
    "    \"\"\"\n",
    "    processes notebook code\n",
    "    \n",
    "    :code:      the code to be processed\n",
    "    :dr:        the associated data record (datarecord_nt)\n",
    "    :srcpath:   source path (info only)\n",
    "    :trgpath:   target path (info only)\n",
    "    \"\"\"\n",
    "    lines = code.splitlines()\n",
    "    outlines = [\n",
    "                 \"# \"+\"-\"*60,\n",
    "                f\"# Auto generated test file `{dr.outfn}`\",\n",
    "                 \"# \"+\"-\"*60,\n",
    "                f\"# source file   = {dr.fn}\"\n",
    "    ]\n",
    "#     if srcpath and srcpath != \".\":\n",
    "#         outlines += [\n",
    "#                 f\"# source path   = {srcpath}\"\n",
    "#         ]\n",
    "#     if trgpath and trgpath != \".\":\n",
    "#         outlines += [\n",
    "#                 f\"# target path   = {srcpath}\"\n",
    "#         ]\n",
    "    outlines += [\n",
    "        \n",
    "                f\"# test id       = {dr.tid}\",\n",
    "                f\"# test comment  = {dr.comment}\",\n",
    "                 \"# \"+\"-\"*60,\n",
    "                \"\",\"\",\n",
    "    ]\n",
    "    is_precode = True\n",
    "    for l in lines:\n",
    "#         print(l)\n",
    "#         try:\n",
    "#             print(l[:5], l[:5].encode(), ord(l[1]), ord(l[4]), l[:5]==\"# ## \")\n",
    "#         except:\n",
    "#             pass\n",
    "        \n",
    "        if l[:4] == \"# # \":\n",
    "            print(f\"\"\"Processing \"{l[4:]}\" ({r.fn})\"\"\")\n",
    "            outlines += [\"\"]\n",
    "            \n",
    "        elif l[:5] == \"# ## \" or l[:5].encode() == b'# ##\\xc2\\xa0':\n",
    "            title = l[5:].strip()\n",
    "            fcn = funcn(title)\n",
    "            print(f\"  creating function `{fcn}()` from section {title}\")\n",
    "            outlines += [\n",
    "                 \"\",\n",
    "                 \"# \"+\"-\"*60,\n",
    "                f\"# Test      {r.tid}\",\n",
    "                f\"# File      {r.outfn}\",\n",
    "                f\"# Segment   {title}\",\n",
    "                 \"# \"+\"-\"*60,\n",
    "                f\"def {fcn}():\",\n",
    "                 \"# \"+\"-\"*60,\n",
    "            ]\n",
    "            is_precode = False\n",
    "            \n",
    "        elif l[:9] == \"# NBTEST:\":\n",
    "            l = l[9:]\n",
    "            try:\n",
    "                opt, val = l.split(\"=\")\n",
    "                opt=opt.strip().upper()\n",
    "                val=val.strip().upper()\n",
    "            except:\n",
    "                print(f\"  error setting option\", l)\n",
    "                raise ValueError(\"Error setting option\", l, dr.fn)\n",
    "            print(f\"  processiong option {opt}={val}\")\n",
    "            if opt == \"NOTEST_DEFAULT\":\n",
    "                global NOTEST_DEFAULT\n",
    "                if val in [\"TEST\", \"NOTEST\"]:\n",
    "                    NOTEST_DEFAULT = val\n",
    "                    #print(\"[process_code] NOTEST_DEFAULT\", NOTEST_DEFAULT)\n",
    "                else:\n",
    "                    raise ValueError(f\"Invalid choice for option NOTEST_DEFAULT: {val}\", l, dr.fn)\n",
    "            else:\n",
    "                raise ValueError(f\"Unknown option {opt}\", l, dr.fn)\n",
    "            \n",
    "            \n",
    "        else:\n",
    "            if is_precode:\n",
    "                if l[:2] != \"# \":\n",
    "                    outlines += [l]\n",
    "            else:\n",
    "                outlines += [\"    \"+l]\n",
    "    outcode = \"\\n\".join(outlines)\n",
    "    return outcode"
   ]
  },
  {
   "cell_type": "code",
   "execution_count": 15,
   "id": "82d9c3d5",
   "metadata": {},
   "outputs": [
    {
     "name": "stdout",
     "output_type": "stream",
     "text": [
      "Processing \"TEMPLATE [NBTest000]\" (NBTest_000_Template.py)\n",
      "  creating function `notest_demo_section()` from section Demo section [NOTEST]\n",
      "  creating function `test_section_1()` from section Section 1\n",
      "  creating function `test_section_2()` from section Section 2\n",
      "  saving generated test to test_000_Template.py\n",
      "Processing \"Unit tests for ContractHelper\" (NBTest_002_ContractHelper.py)\n",
      "  saving generated test to test_002_ContractHelper.py\n",
      "Processing \"Unit tests for PoolManager\" (NBTest_003_PoolManager.py)\n",
      "  saving generated test to test_003_PoolManager.py\n",
      "Processing \"Unit tests for TokenManager\" (NBTest_004_TokenManager.py)\n",
      "  saving generated test to test_004_TokenManager.py\n",
      "  saving generated test to test_005_AggregatCarbonTrades.py\n",
      "  saving generated test to test_006_GetPriceMap.py\n",
      "  saving generated test to test_007_TopNpoolsOnexchange.py\n",
      "  saving generated test to test_008_TxHelper.py\n",
      "Processing \"CPC and Optimizer in Fastlane [NBTest063b]\" (NBTest_063b_Optimizer.py)\n",
      "  creating function `test_p()` from section P\n",
      "  creating function `test_tvl()` from section TVL\n",
      "  creating function `test_estimate_prices()` from section estimate prices\n",
      "  creating function `test_price_estimates_in_optimizer()` from section price estimates in optimizer\n",
      "  creating function `test_assertions_and_testing()` from section Assertions and testing\n",
      "  creating function `test_iseq()` from section iseq\n",
      "  creating function `test_carbonorderui_integration()` from section CarbonOrderUI integration\n",
      "  creating function `test_new_cpc_features_in_v2()` from section New CPC features in v2\n",
      "  creating function `test_real_data_and_retrieval_of_curves()` from section Real data and retrieval of curves\n",
      "  creating function `test_tokenscale_tests()` from section TokenScale tests\n",
      "  creating function `test_dx_min_and_dx_max_etc()` from section dx_min and dx_max etc\n",
      "  creating function `test_xyfromp_f_and_dxdyfromp_f()` from section xyfromp_f and dxdyfromp_f\n",
      "  creating function `test_cpcinverter()` from section CPCInverter\n",
      "  creating function `test_simple_optimizer()` from section simple_optimizer\n",
      "  creating function `test_optimizer_plus_inverted_curves()` from section optimizer plus inverted curves\n",
      "  creating function `test_posx_and_negx()` from section posx and negx\n",
      "  creating function `test_tradeinstructions()` from section TradeInstructions\n",
      "  creating function `test_margp_optimizer()` from section margp_optimizer\n",
      "  creating function `notest_simple_optimizer_demo()` from section simple_optimizer demo [NOTEST]\n",
      "  creating function `notest_margp_optimizer_demo()` from section MargP Optimizer Demo [NOTEST]\n",
      "  creating function `notest_optimizer_plus_inverted_curves()` from section Optimizer plus inverted curves [NOTEST]\n",
      "  creating function `notest_operating_on_leverage_ranges()` from section Operating on leverage ranges [NOTEST]\n",
      "  creating function `notest_arbitrage_testing()` from section Arbitrage testing [NOTEST]\n",
      "  creating function `notest_charts()` from section Charts [NOTEST]\n",
      "  saving generated test to test_063b_Optimizer.py\n"
     ]
    }
   ],
   "source": [
    "for r in fnlst:\n",
    "    code = fload(r.fn, SRCPATH, quiet=True)\n",
    "    testcode = process_code(code, r, SRCPATH, TRGPATH)\n",
    "    fsave(testcode, r.outfn, TRGPATH, quiet=True)\n",
    "    print(f\"  saving generated test to {r.outfn}\")"
   ]
  }
 ],
 "metadata": {
  "jupytext": {
   "formats": "ipynb,py:light"
  },
  "kernelspec": {
   "display_name": "Python 3",
   "language": "python",
   "name": "python3"
  },
  "language_info": {
   "codemirror_mode": {
    "name": "ipython",
    "version": 3
   },
   "file_extension": ".py",
   "mimetype": "text/x-python",
   "name": "python",
   "nbconvert_exporter": "python",
   "pygments_lexer": "ipython3",
   "version": "3.8.8"
  }
 },
 "nbformat": 4,
 "nbformat_minor": 5
}
