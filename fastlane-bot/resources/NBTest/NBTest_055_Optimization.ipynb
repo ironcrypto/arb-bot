{
 "cells": [
  {
   "cell_type": "code",
   "execution_count": 1,
   "id": "a448e212",
   "metadata": {},
   "outputs": [
    {
     "name": "stdout",
     "output_type": "stream",
     "text": [
      "imported m, np, pd, plt, os, sys, decimal; defined iseq, raises, require\n",
      "CPCContainer v3.3 (21/Sep/2023)\n",
      "ConstantProductCurve v3.3 (21/Sep/2023)\n",
      "MargPOptimizer v5.2.1 (21/Sep/2023)\n",
      "PairOptimizer v6.0.1 (21/Sep/2023)\n"
     ]
    }
   ],
   "source": [
    "from fastlane_bot.tools.cpc import CPCContainer, ConstantProductCurve as CPC, CurveBase\n",
    "from fastlane_bot.tools.optimizer import MargPOptimizer, PairOptimizer\n",
    "from fastlane_bot.testing import *\n",
    "# from flbtools.cpc import CPCContainer, ConstantProductCurve as CPC, CurveBase\n",
    "# from flbtools.optimizer import MargPOptimizer, PairOptimizer\n",
    "# from flbtesting import *\n",
    "\n",
    "from math import sqrt\n",
    "from copy import deepcopy\n",
    "print(\"{0.__name__} v{0.__VERSION__} ({0.__DATE__})\".format(CPCContainer))\n",
    "print(\"{0.__name__} v{0.__VERSION__} ({0.__DATE__})\".format(CPC))\n",
    "print(\"{0.__name__} v{0.__VERSION__} ({0.__DATE__})\".format(MargPOptimizer))\n",
    "print(\"{0.__name__} v{0.__VERSION__} ({0.__DATE__})\".format(PairOptimizer))\n",
    "\n",
    "plt.style.use('seaborn-v0_8-dark')\n",
    "plt.rcParams['figure.figsize'] = [12,6]\n",
    "# from fastlane_bot import __VERSION__\n",
    "# require(\"3.0\", __VERSION__)"
   ]
  },
  {
   "cell_type": "markdown",
   "id": "d9917997",
   "metadata": {},
   "source": [
    "# Optimization Methods [NBTest055]"
   ]
  },
  {
   "cell_type": "markdown",
   "id": "382ba9f9",
   "metadata": {},
   "source": [
    "Note: using an existing CPCContainer object `CC`, the curves can be extracted as dict using the command below\n",
    "\n",
    "    CURVES = [c.asdict() for c in CC]\n",
    "    "
   ]
  },
  {
   "cell_type": "markdown",
   "id": "71b7924c-6f92-4272-bbe4-3e0b0af3c3d7",
   "metadata": {},
   "source": [
    "The below three curves are one POL curve (extremely levered; it is originally fixed price) and two Uniswap v3 curves. On those curves the high dimensional gradient descent algo fails because it ends up on a plateau.\n",
    "\n",
    "We are here creating the following sets of curves\n",
    "\n",
    "- `CC` based on `CURVES` the curves paramater set which are levered curves where the gradient descent optimization algorithm failed\n",
    "\n",
    "- `CCn` is `CC` plus a full range curve removing the no-man's land\n",
    "\n",
    "- `CCul` is a set of unlevered curves where convergence should not be a problem at all\n"
   ]
  },
  {
   "cell_type": "markdown",
   "id": "2d84487b-34e4-427a-95e2-86b77b168584",
   "metadata": {},
   "source": [
    "### `CC` (complex levered curves)"
   ]
  },
  {
   "cell_type": "code",
   "execution_count": 2,
   "id": "0cb2c0bf",
   "metadata": {
    "lines_to_next_cell": 0
   },
   "outputs": [],
   "source": [
    "CURVES = [\n",
    "\n",
    "# POL Curve\n",
    "{\n",
    "  'k': 6.157332844764952e+20,\n",
    "  'x': 615733222.5892723,\n",
    "  'x_act': 0,\n",
    "  'y_act': 100000.0,\n",
    "  'alpha': 0.5,\n",
    "  'pair': 'WETH/DAI', # WETH-6Cc2/DAI-1d0F\n",
    "  'cid': '0x33ed',\n",
    "    #     0x33ed451d5c7b7a76266b8cdfab030f6de8143fcfbdcd08dabeed0de8d684b4de\n",
    "  'fee': 0.0,\n",
    "  'descr': 'bancor_pol DAI-1d0F/ETH-EEeE 0.000',\n",
    "  'constr': 'carb',\n",
    "  'params': {'exchange': 'bancor_pol',\n",
    "   'tknx_dec': 18,\n",
    "   'tkny_dec': 18,\n",
    "   'tknx_addr': '0x6B175474E89094C44Da98b954EedeAC495271d0F',\n",
    "   'tkny_addr': '0xEeeeeEeeeEeEeeEeEeEeeEEEeeeeEeeeeeeeEEeE',\n",
    "   'blocklud': 18121620,\n",
    "   'y': 100000.0,\n",
    "   'yint': 100000.0,\n",
    "   'A': 0,\n",
    "   'B': 40.29987368093254,\n",
    "   'pa': 1624.0799811071013,\n",
    "   'pb': 1624.0799811071013}},\n",
    " \n",
    "# Uniswap v3 Curve 1\n",
    " {\n",
    "  'k': 1147678924959.0112,\n",
    "  'x': 42728400.31211105,\n",
    "  'x_act': 7575.552803896368,\n",
    "  'y_act': 8.665306719478394,\n",
    "  'alpha': 0.5,\n",
    "  'pair': 'DAI/WETH', # DAi-1d0F/WETH-6Cc2\n",
    "  'cid': '0xb1d8',\n",
    "    #     0xb1d8cd62f75016872495dae3e19d96e364767e7d674488392029d15cdbcd7b34',\n",
    "  'fee': 0.0005,\n",
    "  'descr': 'uniswap_v3 DAI-1d0F/WETH-6Cc2 500',\n",
    "  'constr': 'pkpp',\n",
    "  'params': {'exchange': 'uniswap_v3',\n",
    "   'tknx_dec': 18,\n",
    "   'tkny_dec': 18,\n",
    "   'tknx_addr': '0x6B175474E89094C44Da98b954EedeAC495271d0F',\n",
    "   'tkny_addr': '0xC02aaA39b223FE8D0A0e5C4F27eAD9083C756Cc2',\n",
    "   'blocklud': 18121789,\n",
    "   'L': 1071297.7760450225}},\n",
    "    \n",
    "\n",
    "# Uniswap v3 Curve 2\n",
    "{\n",
    "  'k': 1541847511355.546,\n",
    "  'x': 49517090.33542573,\n",
    "  'x_act': 99496.94394361228,\n",
    "  'y_act': 30.763865271412214,\n",
    "  'alpha': 0.5,\n",
    "  'pair': 'DAI/WETH', # DAi-1d0F/WETH-6Cc2\n",
    "  'cid': '0xae2b',\n",
    "      #  '0xae2b487dff467a33b88e5a4e6874f91ee212886979f673dd18d3e0396862112f',\n",
    "  'fee': 0.003,\n",
    "  'descr': 'uniswap_v3 DAI-1d0F/WETH-6Cc2 3000',\n",
    "  'constr': 'pkpp',\n",
    "  'params': {'exchange': 'uniswap_v3',\n",
    "   'tknx_dec': 18,\n",
    "   'tkny_dec': 18,\n",
    "   'tknx_addr': '0x6B175474E89094C44Da98b954EedeAC495271d0F',\n",
    "   'tkny_addr': '0xC02aaA39b223FE8D0A0e5C4F27eAD9083C756Cc2',\n",
    "   'blocklud': 18121689,\n",
    "   'L': 1241711.5250151888}}\n",
    "]\n",
    "CC = CPCContainer.from_dicts(CURVES)"
   ]
  },
  {
   "cell_type": "markdown",
   "id": "ed8e1919-52fe-4000-9f60-2d9b1909213f",
   "metadata": {},
   "source": [
    "Those are starting prices consistent with those curves."
   ]
  },
  {
   "cell_type": "code",
   "execution_count": 3,
   "id": "4d0fea57",
   "metadata": {},
   "outputs": [
    {
     "data": {
      "text/plain": [
       "1590.7292608895832"
      ]
     },
     "execution_count": 3,
     "metadata": {},
     "output_type": "execute_result"
    }
   ],
   "source": [
    "PRICES = {\n",
    "    'DAI':  0.0006286424878113893, \n",
    "    'WETH': 1,\n",
    "}\n",
    "PRICE0 = PRICES[\"WETH\"]/PRICES[\"DAI\"]\n",
    "PRICE0"
   ]
  },
  {
   "cell_type": "markdown",
   "id": "cf29d106-1042-46f2-8658-57c7f5d5acb2",
   "metadata": {},
   "source": [
    "### `CCn` (normalized curve set)\n",
    "\n",
    "This curve set contains an additional constant product curve that removes the no-man's land between the levered curves and where gradient descent therefore converges"
   ]
  },
  {
   "cell_type": "code",
   "execution_count": 4,
   "id": "97f31216-fd08-4171-a0b1-4a545c8a1db6",
   "metadata": {},
   "outputs": [],
   "source": [
    "cnorm = CPC.from_pk(p=PRICE0, k=PRICE0*CC[0].x, pair=\"WETH/DAI\", cid=\"normalizer\")\n",
    "CCn = CPCContainer([c for c in CC]+[cnorm])"
   ]
  },
  {
   "cell_type": "markdown",
   "id": "53d02241-248c-42df-9dd4-b3ba58d7c067",
   "metadata": {},
   "source": [
    "### `CCul` (simple unlevered curves)\n",
    "\n",
    "This is a very simple set of unlevered curver where convergence should never be a problem."
   ]
  },
  {
   "cell_type": "code",
   "execution_count": 5,
   "id": "41d1f06b",
   "metadata": {},
   "outputs": [],
   "source": [
    "CCul = CPCContainer([\n",
    "    CPC.from_pk(p=1500, k=1500*100, pair=\"WETH/DAI\", cid=\"c1500\"),\n",
    "    CPC.from_pk(p=1600, k=1600*100, pair=\"WETH/DAI\", cid=\"c1600\")\n",
    "])"
   ]
  },
  {
   "cell_type": "markdown",
   "id": "5c1ac06f-7c85-4301-a383-1e1de3d47674",
   "metadata": {},
   "source": [
    "### `CCas` (asymmetric unlevered curves)\n",
    "\n",
    "We are generating asymmetric curves that have an arbitrage opportunity. `CCas2` is a single pair that exhibits the arbitrage, `CCas3` requires triangle optimization."
   ]
  },
  {
   "cell_type": "code",
   "execution_count": 6,
   "id": "68e08649-812e-4a46-8814-27b7f7f97b07",
   "metadata": {},
   "outputs": [],
   "source": [
    "ETA25, ETA75 = 1/3, 3\n",
    "CCas2 = CPCContainer([\n",
    "    CPC.from_xyal(x=10, y=2000/ETA25*10, alpha=0.25, pair=\"WETH/DAI\", cid=\"c2000-0.25\"),\n",
    "    CPC.from_xyal(x=10, y=2500/ETA75*10, alpha=0.75, pair=\"WETH/DAI\", cid=\"c2500-0.75\"),\n",
    "])"
   ]
  },
  {
   "cell_type": "code",
   "execution_count": 7,
   "id": "13e4a3f9-42fb-4094-9e50-a60486bba8f4",
   "metadata": {},
   "outputs": [
    {
     "data": {
      "text/plain": [
       "(10, 'WETH', 59999.99999999996, 'DAI', 1999.9999999999986)"
      ]
     },
     "execution_count": 7,
     "metadata": {},
     "output_type": "execute_result"
    }
   ],
   "source": [
    "CCas2[0].x, CCas2[0].tknx, CCas2[0].y, CCas2[0].tkny, CCas2[0].p"
   ]
  },
  {
   "cell_type": "code",
   "execution_count": 8,
   "id": "fd29b5e6-c596-45dd-9e5d-c13c2e01fa41",
   "metadata": {},
   "outputs": [
    {
     "data": {
      "text/plain": [
       "(10, 'WETH', 8333.33333333333, 'DAI', 2499.999999999999)"
      ]
     },
     "execution_count": 8,
     "metadata": {},
     "output_type": "execute_result"
    }
   ],
   "source": [
    "CCas2[1].x, CCas2[1].tknx, CCas2[1].y, CCas2[1].tkny, CCas2[1].p"
   ]
  },
  {
   "cell_type": "code",
   "execution_count": 9,
   "id": "f2bc18b3-bce9-4d3d-8da5-0df9474082e8",
   "metadata": {},
   "outputs": [
    {
     "data": {
      "text/plain": [
       "0.3333333333333333"
      ]
     },
     "execution_count": 9,
     "metadata": {},
     "output_type": "execute_result"
    }
   ],
   "source": [
    "CCas2[0].eta"
   ]
  },
  {
   "cell_type": "markdown",
   "id": "4a558dca-93ab-464d-b53b-546c2841e1a3",
   "metadata": {},
   "source": [
    "## Curve definitions\n",
    "\n",
    "Here we are asserting properties of the curves that they are meant to have; should really never fail unless something goes horribly wrong"
   ]
  },
  {
   "cell_type": "code",
   "execution_count": 10,
   "id": "8546c725-fccd-46ed-b7a2-a06abf6cb901",
   "metadata": {},
   "outputs": [],
   "source": [
    "assert iseq(CCas2[0].x, 10)\n",
    "assert CCas2[0].tknx == \"WETH\"\n",
    "assert iseq(CCas2[0].y, 60000)\n",
    "assert CCas2[0].tkny == \"DAI\"\n",
    "assert iseq(CCas2[0].eta, ETA25)\n",
    "assert iseq(CCas2[0].p, 2000)"
   ]
  },
  {
   "cell_type": "code",
   "execution_count": 11,
   "id": "d191df15",
   "metadata": {
    "lines_to_next_cell": 2
   },
   "outputs": [],
   "source": [
    "assert iseq(CCas2[1].x, 10)\n",
    "assert CCas2[1].tknx == \"WETH\"\n",
    "assert iseq(CCas2[1].y, 25000/3)\n",
    "assert CCas2[1].tkny == \"DAI\"\n",
    "assert iseq(CCas2[1].eta, ETA75)\n",
    "assert iseq(CCas2[1].p, 2500)"
   ]
  },
  {
   "cell_type": "markdown",
   "id": "9a6b457a-3573-4387-8047-9ae88c5c607e",
   "metadata": {},
   "source": [
    "## MargPOptimizer current\n",
    "\n",
    "Uses the current margp optimizer which uses $d \\log p ~ 0$ as criterium and that can fail on certain formations of levered curves (when the price ends up on no-mans land)\n",
    "### Setup"
   ]
  },
  {
   "cell_type": "code",
   "execution_count": 12,
   "id": "69c90858",
   "metadata": {
    "lines_to_next_cell": 2
   },
   "outputs": [],
   "source": [
    "#help(MargPOptimizer)"
   ]
  },
  {
   "cell_type": "markdown",
   "id": "a28696d0",
   "metadata": {},
   "source": [
    "### Unlevered curves `CCul`"
   ]
  },
  {
   "cell_type": "code",
   "execution_count": 13,
   "id": "19aecdff-2706-420a-bbb4-b0d776e235fd",
   "metadata": {},
   "outputs": [],
   "source": [
    "Oul = MargPOptimizer(curves=CCul)\n",
    "assert len(Oul.curves) == len(CCul)"
   ]
  },
  {
   "cell_type": "code",
   "execution_count": 14,
   "id": "d00b746e",
   "metadata": {},
   "outputs": [
    {
     "data": {
      "text/plain": [
       "CPCArbOptimizer.MargpOptimizerResult(result=-0.005204267821271813, time=0.0029151439666748047, method='margp', targettkn='WETH', p_optimal_t=(0.0006449934107164284,), dtokens_t=(-4.737194103654474e-08,), tokens_t=('DAI',), errormsg=None)"
      ]
     },
     "execution_count": 14,
     "metadata": {},
     "output_type": "execute_result"
    }
   ],
   "source": [
    "r = Oul.optimize(\"WETH\")\n",
    "assert r.error is None\n",
    "assert r.method == \"margp\"\n",
    "assert r.targettkn == \"WETH\"\n",
    "assert r.tokens_t == ('DAI',)\n",
    "assert r.dtokens[\"WETH\"] < 0\n",
    "assert iseq(r.result, -0.005204267821271813)\n",
    "assert iseq(r.p_optimal_t[0], 0.0006449934107164284)\n",
    "assert iseq(r.dtokens_t[0], -4.737194103654474e-08)\n",
    "r"
   ]
  },
  {
   "cell_type": "markdown",
   "id": "e49e25d9",
   "metadata": {},
   "source": [
    "the original curves are 1500 and 1600, so ~1550 is right in the middle"
   ]
  },
  {
   "cell_type": "code",
   "execution_count": 15,
   "id": "c5af61c4",
   "metadata": {},
   "outputs": [
    {
     "data": {
      "text/plain": [
       "1550.4034357331604"
      ]
     },
     "execution_count": 15,
     "metadata": {},
     "output_type": "execute_result"
    }
   ],
   "source": [
    "assert iseq(1/r.p_optimal_t[0], 1550.4034357331604)\n",
    "1/r.p_optimal_t[0]"
   ]
  },
  {
   "cell_type": "markdown",
   "id": "92fec7d9",
   "metadata": {},
   "source": [
    "this process converged -- the aggregate change in DAI amount < 1e-5"
   ]
  },
  {
   "cell_type": "code",
   "execution_count": 16,
   "id": "48ec6757",
   "metadata": {},
   "outputs": [
    {
     "data": {
      "text/plain": [
       "{'WETH': -0.005204267821271813, 'DAI': -4.737194103654474e-08}"
      ]
     },
     "execution_count": 16,
     "metadata": {},
     "output_type": "execute_result"
    }
   ],
   "source": [
    "assert abs(r.dtokens[\"DAI\"] < 1e-5)\n",
    "assert r.dtokens[\"WETH\"] < 0\n",
    "assert iseq(r.dtokens[\"WETH\"], -0.005204267821271813)\n",
    "r.dtokens"
   ]
  },
  {
   "cell_type": "markdown",
   "id": "9127bf65",
   "metadata": {},
   "source": [
    "there is some trading going on"
   ]
  },
  {
   "cell_type": "code",
   "execution_count": 17,
   "id": "79288ac3",
   "metadata": {},
   "outputs": [
    {
     "data": {
      "text/plain": [
       "{'c1500': {'WETH': -0.16389245649152784, 'DAI': 249.9349296963901},\n",
       " 'c1600': {'WETH': 0.15868818867025603, 'DAI': -249.93492974376204}}"
      ]
     },
     "execution_count": 17,
     "metadata": {},
     "output_type": "execute_result"
    }
   ],
   "source": [
    "v = r.dxvecvalues(asdict=True)\n",
    "assert iseq(v[\"c1500\"][\"DAI\"], 249.9349296963901)\n",
    "assert iseq(v[\"c1600\"][\"WETH\"], 0.15868818867025603)\n",
    "v"
   ]
  },
  {
   "cell_type": "markdown",
   "id": "4af7aa67",
   "metadata": {},
   "source": [
    "### Normalized curves `CCn`"
   ]
  },
  {
   "cell_type": "code",
   "execution_count": 18,
   "id": "24227582-7c75-425d-9b24-72cd5e7d6d2d",
   "metadata": {},
   "outputs": [],
   "source": [
    "On  = MargPOptimizer(curves=CCn)\n",
    "assert len(On.curves) == len(CC)+1"
   ]
  },
  {
   "cell_type": "code",
   "execution_count": 19,
   "id": "84535b0e",
   "metadata": {},
   "outputs": [
    {
     "data": {
      "text/plain": [
       "CPCArbOptimizer.MargpOptimizerResult(result=-1.244345098228223, time=0.0013599395751953125, method='margp', targettkn='WETH', p_optimal_t=(0.00062745798800732,), dtokens_t=(-1.9371509552001953e-06,), tokens_t=('DAI',), errormsg=None)"
      ]
     },
     "execution_count": 19,
     "metadata": {},
     "output_type": "execute_result"
    }
   ],
   "source": [
    "r = On.optimize(\"WETH\")\n",
    "assert r.error is None\n",
    "assert r.method == \"margp\"\n",
    "assert r.targettkn == \"WETH\"\n",
    "assert r.tokens_t == ('DAI',)\n",
    "assert r.dtokens[\"WETH\"] < 0\n",
    "assert iseq(r.result, -1.244345098228223)\n",
    "assert iseq(r.p_optimal_t[0], 0.00062745798800732)\n",
    "assert iseq(r.dtokens_t[0], -1.9371509552001953e-06, eps=0.1)\n",
    "# assert iseq(r.dtokens_t[0], -1.9371509552001953e-06, eps=0.01)     # FAILS ON GITHUB\n",
    "# assert iseq(r.dtokens_t[0], -1.9371509552001953e-06, eps=0.001)    # FAILS ON GITHUB\n",
    "# assert iseq(r.dtokens_t[0], -1.9371509552001953e-06, eps=0.0001)   # FAILS ON GITHUB\n",
    "r"
   ]
  },
  {
   "cell_type": "markdown",
   "id": "2f1f0ea0",
   "metadata": {},
   "source": [
    "the original curves are 1500 and 1600, so ~1550 is right in the middle"
   ]
  },
  {
   "cell_type": "code",
   "execution_count": 20,
   "id": "e30ed6d5",
   "metadata": {},
   "outputs": [
    {
     "data": {
      "text/plain": [
       "1593.7322005825413"
      ]
     },
     "execution_count": 20,
     "metadata": {},
     "output_type": "execute_result"
    }
   ],
   "source": [
    "assert iseq(1/r.p_optimal_t[0], 1593.7322005825413, eps=0.001)\n",
    "1/r.p_optimal_t[0]"
   ]
  },
  {
   "cell_type": "markdown",
   "id": "4777a332",
   "metadata": {},
   "source": [
    "this process converged -- the aggregate change in DAI amount < 1e-5"
   ]
  },
  {
   "cell_type": "code",
   "execution_count": 21,
   "id": "3a62bcab",
   "metadata": {},
   "outputs": [
    {
     "data": {
      "text/plain": [
       "{'WETH': -1.244345098228223, 'DAI': -1.9371509552001953e-06}"
      ]
     },
     "execution_count": 21,
     "metadata": {},
     "output_type": "execute_result"
    }
   ],
   "source": [
    "assert abs(r.dtokens[\"DAI\"] < 1e-5)\n",
    "assert r.dtokens[\"WETH\"] < 0\n",
    "assert iseq(r.dtokens[\"WETH\"], -1.244345098228223)\n",
    "r.dtokens"
   ]
  },
  {
   "cell_type": "markdown",
   "id": "2569bc8e",
   "metadata": {},
   "source": [
    "there is some trading going on"
   ]
  },
  {
   "cell_type": "code",
   "execution_count": 22,
   "id": "e0344572",
   "metadata": {},
   "outputs": [
    {
     "data": {
      "text/plain": [
       "{'0x33ed': {'WETH': 61.57332217693329, 'DAI': -100000.0},\n",
       " '0xb1d8': {'DAI': 13789.132085457444, 'WETH': -8.665306719478394},\n",
       " '0xae2b': {'DAI': 48971.003532998264, 'WETH': -30.763865271412214},\n",
       " 'normalizer': {'WETH': -23.388495284270903, 'DAI': 37239.86437960714}}"
      ]
     },
     "execution_count": 22,
     "metadata": {},
     "output_type": "execute_result"
    }
   ],
   "source": [
    "v = r.dxvecvalues(asdict=True)\n",
    "v"
   ]
  },
  {
   "cell_type": "markdown",
   "id": "dd36efbb-7940-4bd6-9b3e-63c236224cb2",
   "metadata": {},
   "source": [
    "### Asymmetric curves `CCas2` and `CCas3`"
   ]
  },
  {
   "cell_type": "code",
   "execution_count": 23,
   "id": "41192d1c-6635-4960-a30d-60cecf83892e",
   "metadata": {},
   "outputs": [],
   "source": [
    "O = MargPOptimizer(curves=CCas2)\n",
    "assert len(O.curves) == len(CCas2)"
   ]
  },
  {
   "cell_type": "code",
   "execution_count": 24,
   "id": "5966ea84-386f-45f5-8bf6-a40df86dfedc",
   "metadata": {},
   "outputs": [],
   "source": [
    "r = O.optimize(\"WETH\", params={\"pstart\": {\"WETH\": 2400, \"DAI\": 1}})\n",
    "assert r.error is None\n",
    "assert r.method == \"margp\"\n",
    "assert r.targettkn == \"WETH\"\n",
    "assert r.tokens_t == ('DAI',)\n",
    "assert r.dtokens[\"WETH\"] < 0\n",
    "assert iseq(r.result, -0.048636442623132936, eps=1e-3)\n",
    "assert iseq(r.p_optimal_t[0], 0.0004696831634035269, eps=1e-3)\n",
    "assert iseq(r.dtokens_t[0], -7.3569026426412165e-09, eps=0.1)"
   ]
  },
  {
   "cell_type": "markdown",
   "id": "6cd3e66a",
   "metadata": {},
   "source": [
    "### Failing optimization process `CC`"
   ]
  },
  {
   "cell_type": "code",
   "execution_count": 25,
   "id": "1f69d97b",
   "metadata": {},
   "outputs": [],
   "source": [
    "O = MargPOptimizer(curves=CC)\n",
    "assert len(O.curves) == len(CC)"
   ]
  },
  {
   "cell_type": "code",
   "execution_count": 26,
   "id": "670e8185",
   "metadata": {},
   "outputs": [
    {
     "data": {
      "text/plain": [
       "CPCArbOptimizer.MargpOptimizerResult(result=22.14415018604268, time=0.0007700920104980469, method='margp', targettkn='WETH', p_optimal_t=(0.0006273686958774544,), dtokens_t=(-37239.86438154429,), tokens_t=('DAI',), errormsg=None)"
      ]
     },
     "execution_count": 26,
     "metadata": {},
     "output_type": "execute_result"
    }
   ],
   "source": [
    "r = O.optimize(\"WETH\")\n",
    "assert r.error is None\n",
    "assert r.method == \"margp\"\n",
    "assert r.targettkn == \"WETH\"\n",
    "assert r.tokens_t == ('DAI',)\n",
    "assert iseq(r.result, 22.14415018604268)\n",
    "assert iseq(r.p_optimal_t[0], 0.0006273686958774544)\n",
    "assert iseq(r.dtokens_t[0], -37239.86438154429)\n",
    "r"
   ]
  },
  {
   "cell_type": "markdown",
   "id": "40871d0d",
   "metadata": {},
   "source": [
    "Here we show that the final price is not the same as the initial one, but also not totally crazy (this calculation has not converged but is stuck on a plateau)"
   ]
  },
  {
   "cell_type": "code",
   "execution_count": 27,
   "id": "fd0376b7",
   "metadata": {},
   "outputs": [
    {
     "data": {
      "text/plain": [
       "({'DAI': 0.0006286424878113893, 'WETH': 1},\n",
       " {'DAI': 0.0006273686958774544, 'WETH': 1.0})"
      ]
     },
     "execution_count": 27,
     "metadata": {},
     "output_type": "execute_result"
    }
   ],
   "source": [
    "PRICES, r.p_optimal"
   ]
  },
  {
   "cell_type": "code",
   "execution_count": 28,
   "id": "7d7d54a8",
   "metadata": {},
   "outputs": [
    {
     "data": {
      "text/plain": [
       "(1593.959033294407, 1590.7292608895832)"
      ]
     },
     "execution_count": 28,
     "metadata": {},
     "output_type": "execute_result"
    }
   ],
   "source": [
    "1/r.p_optimal_t[0], PRICES[\"WETH\"]/PRICES[\"DAI\"]"
   ]
  },
  {
   "cell_type": "markdown",
   "id": "f6130abc",
   "metadata": {},
   "source": [
    "The `result` is the amount of target token extracted. Note that this assumes that the algo has converged which it has not in this case. The `dtokens` property shows the _aggregate_ change in tokens, and it _should_ be zero for everything but the target token WETH which is not the case here."
   ]
  },
  {
   "cell_type": "code",
   "execution_count": 29,
   "id": "9f1c1fa6",
   "metadata": {},
   "outputs": [
    {
     "data": {
      "text/plain": [
       "22.14415018604268"
      ]
     },
     "execution_count": 29,
     "metadata": {},
     "output_type": "execute_result"
    }
   ],
   "source": [
    "assert r.result == r.dtokens[\"WETH\"]\n",
    "r.result"
   ]
  },
  {
   "cell_type": "code",
   "execution_count": 30,
   "id": "27a53e7e",
   "metadata": {},
   "outputs": [
    {
     "data": {
      "text/plain": [
       "{'WETH': 22.14415018604268, 'DAI': -37239.86438154429}"
      ]
     },
     "execution_count": 30,
     "metadata": {},
     "output_type": "execute_result"
    }
   ],
   "source": [
    "r.dtokens"
   ]
  },
  {
   "cell_type": "markdown",
   "id": "15cffd46",
   "metadata": {},
   "source": [
    "`dxdyvalues` and `dxvecvalues` show the changes of the respective curves. For standard two-asset curves they are equivalent, just in a different format; for three+ asset curves only dxvecvalues is defined"
   ]
  },
  {
   "cell_type": "code",
   "execution_count": 31,
   "id": "c4461246",
   "metadata": {},
   "outputs": [
    {
     "data": {
      "text/plain": [
       "{'0x33ed': (61.57332217693329, -100000.0),\n",
       " '0xb1d8': (13789.132085457444, -8.665306719478394),\n",
       " '0xae2b': (48971.003532998264, -30.763865271412214)}"
      ]
     },
     "execution_count": 31,
     "metadata": {},
     "output_type": "execute_result"
    }
   ],
   "source": [
    "r.dxdyvalues(asdict=True)"
   ]
  },
  {
   "cell_type": "code",
   "execution_count": 32,
   "id": "bb314923",
   "metadata": {},
   "outputs": [
    {
     "data": {
      "text/plain": [
       "{'0x33ed': {'WETH': 61.57332217693329, 'DAI': -100000.0},\n",
       " '0xb1d8': {'DAI': 13789.132085457444, 'WETH': -8.665306719478394},\n",
       " '0xae2b': {'DAI': 48971.003532998264, 'WETH': -30.763865271412214}}"
      ]
     },
     "execution_count": 32,
     "metadata": {},
     "output_type": "execute_result"
    }
   ],
   "source": [
    "r.dxvecvalues(asdict=True)"
   ]
  },
  {
   "cell_type": "markdown",
   "id": "14af2241",
   "metadata": {},
   "source": [
    "This shows that the algorithm **has not converged** -- this number (the net flow of DAI; note that the target token here is WETH) should be zero!"
   ]
  },
  {
   "cell_type": "code",
   "execution_count": 33,
   "id": "7410fc4a",
   "metadata": {},
   "outputs": [
    {
     "data": {
      "text/plain": [
       "-37239.86438154429"
      ]
     },
     "execution_count": 33,
     "metadata": {},
     "output_type": "execute_result"
    }
   ],
   "source": [
    "s_DAI = sum(x[\"DAI\"] for x in r.dxvecvalues(asdict=True).values())\n",
    "assert iseq(s_DAI, r.dtokens[\"DAI\"])\n",
    "s_DAI"
   ]
  },
  {
   "cell_type": "markdown",
   "id": "9094b4e1",
   "metadata": {},
   "source": [
    "This number is not expected to be zero as the profit is being extracted in WETH"
   ]
  },
  {
   "cell_type": "code",
   "execution_count": 34,
   "id": "e5c2ee6a",
   "metadata": {
    "lines_to_next_cell": 2
   },
   "outputs": [
    {
     "data": {
      "text/plain": [
       "22.14415018604268"
      ]
     },
     "execution_count": 34,
     "metadata": {},
     "output_type": "execute_result"
    }
   ],
   "source": [
    "s_WETH = sum(x[\"WETH\"] for x in r.dxvecvalues(asdict=True).values())\n",
    "assert iseq(s_WETH, r.dtokens[\"WETH\"])\n",
    "s_WETH"
   ]
  },
  {
   "cell_type": "markdown",
   "id": "fc9ca8c9",
   "metadata": {},
   "source": [
    "## PairOptimizer vs MarpP\n",
    "\n",
    "PairOptimizer is a new optimization method that uses bisection instead of gradient descent. It is a bit slower, but importantly it is robust against the no-man's land problem of the gradient descent\n",
    "\n",
    "### Setup"
   ]
  },
  {
   "cell_type": "markdown",
   "id": "3af82ecb-2f2d-48d6-beae-3be4769bef1d",
   "metadata": {},
   "source": [
    "### Unlevered curves `CCul`"
   ]
  },
  {
   "cell_type": "code",
   "execution_count": 35,
   "id": "60d1d4f0-6f2d-4808-8f58-5dac878f6838",
   "metadata": {},
   "outputs": [],
   "source": [
    "Oul = PairOptimizer(curves=CCul)\n",
    "Oul_mp = MargPOptimizer(curves=CCul)\n",
    "assert len(Oul.curves) == len(CCul)"
   ]
  },
  {
   "cell_type": "markdown",
   "id": "94d61bad-3788-4089-81a6-c8a220236dc8",
   "metadata": {},
   "source": [
    "Unlevered curves converged nicely in the margp (gradient descent) optimizer, and they are converging nicely here; the results are very close together (better than 1e-5)"
   ]
  },
  {
   "cell_type": "code",
   "execution_count": 36,
   "id": "1ab07f48-e00f-46ea-ab8f-3cc63bb23bbd",
   "metadata": {},
   "outputs": [
    {
     "data": {
      "text/plain": [
       "(CPCArbOptimizer.MargpOptimizerResult(result=-0.005204267851834032, time=0.0042760372161865234, method='margp-pair', targettkn='WETH', p_optimal_t=(0.0006449934107144566,), dtokens_t=(9.094947017729282e-12,), tokens_t=('DAI',), errormsg=None),\n",
       " CPCArbOptimizer.MargpOptimizerResult(result=-0.005204267821271813, time=0.0008590221405029297, method='margp', targettkn='WETH', p_optimal_t=(0.0006449934107164284,), dtokens_t=(-4.737194103654474e-08,), tokens_t=('DAI',), errormsg=None),\n",
       " 5.872530017825284e-09)"
      ]
     },
     "execution_count": 36,
     "metadata": {},
     "output_type": "execute_result"
    }
   ],
   "source": [
    "r   = Oul.optimize(\"WETH\")\n",
    "rmp = Oul_mp.optimize(\"WETH\")\n",
    "assert r.error is None\n",
    "assert rmp.error is None\n",
    "assert r.method   == \"margp-pair\"\n",
    "assert rmp.method == \"margp\"\n",
    "assert r.targettkn == \"WETH\" \n",
    "assert rmp.targettkn == \"WETH\"\n",
    "assert r.tokens_t == ('DAI',)\n",
    "assert rmp.tokens_t == ('DAI',)\n",
    "assert r.dtokens[\"WETH\"] < 0\n",
    "assert rmp.dtokens[\"WETH\"] < 0\n",
    "assert iseq(r.p_optimal_t[0], 0.0006449934107144566)\n",
    "assert iseq(rmp.p_optimal_t[0], 0.0006449934107164284)\n",
    "assert r.result/rmp.result-1 < 1e-5\n",
    "r, rmp, r.result/rmp.result-1"
   ]
  },
  {
   "cell_type": "markdown",
   "id": "5fa27642-f637-41df-97d3-4bd1eae00088",
   "metadata": {},
   "source": [
    "It is notable that the bisection algorithm is **six times slower** than the gradient descent"
   ]
  },
  {
   "cell_type": "code",
   "execution_count": 37,
   "id": "6b9292d4-df1f-4be3-bedc-798c83980c4d",
   "metadata": {},
   "outputs": [
    {
     "data": {
      "text/plain": [
       "4.977796280877047"
      ]
     },
     "execution_count": 37,
     "metadata": {},
     "output_type": "execute_result"
    }
   ],
   "source": [
    "r.time/rmp.time"
   ]
  },
  {
   "cell_type": "markdown",
   "id": "98bb193e-64b3-4531-a3c3-ce3d5ec40d34",
   "metadata": {},
   "source": [
    "the optimal price here is very very close: 1e-12"
   ]
  },
  {
   "cell_type": "code",
   "execution_count": 38,
   "id": "5826dfb8-0a6c-4da0-84e8-1ee6a4961919",
   "metadata": {},
   "outputs": [
    {
     "data": {
      "text/plain": [
       "-3.0569990983053685e-12"
      ]
     },
     "execution_count": 38,
     "metadata": {},
     "output_type": "execute_result"
    }
   ],
   "source": [
    "assert r.p_optimal_t[0]/rmp.p_optimal_t[0]-1 < 1e-8\n",
    "r.p_optimal_t[0]/rmp.p_optimal_t[0]-1"
   ]
  },
  {
   "cell_type": "markdown",
   "id": "0cca1787-0fc2-4e33-a157-c4888fe4b2bb",
   "metadata": {},
   "source": [
    "Here we show that (a) the DAI transfer is de-minimis and close enough to zero, and more importantly, that (b) both our methods give essentially the same result as to how much ETH can be obtained from the arb"
   ]
  },
  {
   "cell_type": "code",
   "execution_count": 39,
   "id": "bb4eab27-ad3d-42e9-985f-feaabdd100c0",
   "metadata": {},
   "outputs": [
    {
     "data": {
      "text/plain": [
       "({'WETH': -0.005204267851834032, 'DAI': 9.094947017729282e-12},\n",
       " {'WETH': -0.005204267821271813, 'DAI': -4.737194103654474e-08},\n",
       " 5.872530017825284e-09)"
      ]
     },
     "execution_count": 39,
     "metadata": {},
     "output_type": "execute_result"
    }
   ],
   "source": [
    "assert r.dtokens[\"DAI\"] < 1e-5\n",
    "assert rmp.dtokens[\"DAI\"] < 1e-5\n",
    "assert r.dtokens[\"WETH\"]/rmp.dtokens[\"WETH\"]-1 < 1e-5\n",
    "r.dtokens, rmp.dtokens, r.dtokens[\"WETH\"]/rmp.dtokens[\"WETH\"]-1"
   ]
  },
  {
   "cell_type": "markdown",
   "id": "cab1c7ce-6ecd-4012-9832-fda509fd1d70",
   "metadata": {},
   "source": [
    "### Asymmetric curves `CCas2` and `CCas3`"
   ]
  },
  {
   "cell_type": "markdown",
   "id": "a5759d09-a284-4fa7-bb85-d52d2a4656e3",
   "metadata": {},
   "source": [
    "#### `CCas2`"
   ]
  },
  {
   "cell_type": "code",
   "execution_count": 40,
   "id": "1aad6014-7176-46b8-8582-29630ed783e4",
   "metadata": {},
   "outputs": [],
   "source": [
    "O = PairOptimizer(curves=CCas2)\n",
    "Omp = MargPOptimizer(curves=CCas2)\n",
    "assert len(O.curves) == len(CCas2)\n",
    "assert len(Omp.curves) == len(O.curves)"
   ]
  },
  {
   "cell_type": "code",
   "execution_count": 53,
   "id": "979c7a48-a198-4742-8a39-1b98685b4522",
   "metadata": {},
   "outputs": [],
   "source": [
    "r = O.optimize(\"WETH\")\n",
    "rmp = Omp.optimize(\"WETH\")\n",
    "assert r.error is None\n",
    "assert r.method == \"margp-pair\"\n",
    "assert r.targettkn == \"WETH\"\n",
    "assert r.tokens_t == ('DAI',)\n",
    "assert r.dtokens[\"WETH\"] < 0\n",
    "assert iseq(r.result, -0.048636442623132936, eps=1e-3)\n",
    "assert iseq(r.result, rmp.result, eps=1e-3)\n",
    "assert r.result != rmp.result # numerically should not converged to same\n",
    "assert iseq(r.p_optimal_t[0], 0.0004696831634035269, eps=1e-3)\n",
    "assert iseq(r.dtokens[\"WETH\"], -0.04863644262652045, eps=1e-3)\n",
    "assert iseq(r.dtokens[\"WETH\"], rmp.dtokens[\"WETH\"], eps=1e-3)\n",
    "assert iseq(0, r.dtokens[\"DAI\"], eps=1e-6)\n",
    "assert iseq(0, rmp.dtokens[\"DAI\"], eps=1e-6)\n",
    "assert abs(r.dtokens[\"DAI\"] - rmp.dtokens[\"DAI\"]) < 1e-6\n",
    "assert r.dtokens_t == (r.dtokens[\"DAI\"],)\n",
    "assert rmp.dtokens_t == (rmp.dtokens[\"DAI\"],)\n",
    "assert r.tokens_t == ('DAI',)\n",
    "assert rmp.tokens_t == ('DAI',)"
   ]
  },
  {
   "cell_type": "markdown",
   "id": "5609beb9-5bf4-44d8-b28b-a74ed11e8af2",
   "metadata": {},
   "source": [
    "#### `CCas3` [TODO]"
   ]
  },
  {
   "cell_type": "markdown",
   "id": "be7cde96",
   "metadata": {},
   "source": [
    "### Normalized curves `CCn`"
   ]
  },
  {
   "cell_type": "code",
   "execution_count": null,
   "id": "0be48669-2a24-4e81-9d50-f1d8972e1f95",
   "metadata": {},
   "outputs": [],
   "source": [
    "On = PairOptimizer(curves=CCn)\n",
    "On_mp = MargPOptimizer(curves=CCn)\n",
    "assert len(On.curves) == len(CC)+1"
   ]
  },
  {
   "cell_type": "code",
   "execution_count": null,
   "id": "c3a76a52-bb69-4c1f-b0bc-42e6c79fefbe",
   "metadata": {},
   "outputs": [],
   "source": [
    "r = On.optimize(\"WETH\")\n",
    "rmp = On_mp.optimize(\"WETH\")\n",
    "assert r.error is None\n",
    "assert rmp.error is None\n",
    "assert r.method   == \"margp-pair\"\n",
    "assert rmp.method == \"margp\"\n",
    "assert r.targettkn == \"WETH\" \n",
    "assert rmp.targettkn == \"WETH\"\n",
    "assert r.tokens_t == ('DAI',)\n",
    "assert rmp.tokens_t == ('DAI',)\n",
    "assert r.dtokens[\"WETH\"] < 0\n",
    "assert rmp.dtokens[\"WETH\"] < 0\n",
    "assert iseq(r.p_optimal_t[0], 0.0006274579880072543)\n",
    "assert iseq(rmp.p_optimal_t[0], 0.00062745798800732)\n",
    "assert r.result/rmp.result-1 < 1e-5\n",
    "r, rmp, r.result/rmp.result-1"
   ]
  },
  {
   "cell_type": "markdown",
   "id": "cdc13d65",
   "metadata": {},
   "source": [
    "### Optimization process `CC` (fails in full margp)"
   ]
  },
  {
   "cell_type": "code",
   "execution_count": null,
   "id": "e9c02aa7",
   "metadata": {
    "lines_to_next_cell": 2
   },
   "outputs": [],
   "source": [
    "O = PairOptimizer(curves=CC)\n",
    "O_mp   = MargPOptimizer(curves=CC)\n",
    "assert len(O.curves) == len(CC)"
   ]
  },
  {
   "cell_type": "code",
   "execution_count": null,
   "id": "58c01b3c-9f94-4206-ab9f-81369c07bdc9",
   "metadata": {},
   "outputs": [],
   "source": [
    "r = O.optimize(\"WETH\")\n",
    "rmp = O_mp.optimize(\"WETH\")\n",
    "assert r.error is None\n",
    "assert rmp.error is None\n",
    "assert r.method   == \"margp-pair\"\n",
    "assert rmp.method == \"margp\"\n",
    "assert r.targettkn == \"WETH\" \n",
    "assert rmp.targettkn == \"WETH\"\n",
    "assert r.tokens_t == ('DAI',)\n",
    "assert rmp.tokens_t == ('DAI',)\n",
    "assert r.dtokens[\"WETH\"] < 0\n",
    "assert not rmp.dtokens[\"WETH\"] < 0 # FAILS!\n",
    "assert iseq(r.p_optimal_t[0], 0.0006157332379890538)\n",
    "assert iseq(rmp.p_optimal_t[0], 0.0006273686958774544)\n",
    "assert r.result/rmp.result-1 < 1e-5\n",
    "r, rmp, r.result/rmp.result-1"
   ]
  },
  {
   "cell_type": "markdown",
   "id": "3e7b1b4f-3b28-4c47-b534-0de80781eb5b",
   "metadata": {},
   "source": [
    "This now converges fine (note as we see below we need an eps parameter of about 1e-10, and also not that we can't go much higher because in this case it gets stuck, probably because of float precision."
   ]
  },
  {
   "cell_type": "code",
   "execution_count": null,
   "id": "7110ebe7-35b7-44e8-9936-402a26fd3ffb",
   "metadata": {},
   "outputs": [],
   "source": [
    "r.dtokens, r.dtokens[\"WETH\"]*PRICE0"
   ]
  },
  {
   "cell_type": "markdown",
   "id": "09365401-ec73-41ff-867f-eca7c62d023e",
   "metadata": {},
   "source": [
    "We see that accuracy at eps=1e-6 is not that great, but at 1e-10 it is very good; also it seems that by and large the runtime does not really depend on the precision parameter here, so we go for 1e-10 throughout [not you can't go for higher precision as it then never returns, probably because of float accuracy issues]"
   ]
  },
  {
   "cell_type": "code",
   "execution_count": null,
   "id": "c7a6f962-5331-4329-bb83-04711ca66e23",
   "metadata": {},
   "outputs": [],
   "source": [
    "r06 = O.optimize(\"WETH\", params={\"eps\":1e-6})\n",
    "r08 = O.optimize(\"WETH\", params={\"eps\":1e-8})\n",
    "r10 = O.optimize(\"WETH\", params={\"eps\":1e-10})\n",
    "r06.dtokens, r08.dtokens, r10.dtokens"
   ]
  },
  {
   "cell_type": "code",
   "execution_count": null,
   "id": "f9e10526-8547-4520-9ff4-5050f739501a",
   "metadata": {},
   "outputs": [],
   "source": [
    "[r10.time/r06.time, r08.time/r06.time]"
   ]
  },
  {
   "cell_type": "markdown",
   "id": "3d63863e",
   "metadata": {},
   "source": [
    "## MargPOptimizer new TODO\n",
    "\n",
    "this is still on the todo lost, but does not have high priority; the new margp optimizer will have a different convergence criterium [p ~ 0 rather than d log p ~ 0]. This will not help in terms of convergence on a plateau -- a gradient algorithm can not recover from f'(x) = 0 -- but it will allow identifying instances of non convergence.\n",
    "\n",
    "### Setup"
   ]
  },
  {
   "cell_type": "code",
   "execution_count": null,
   "id": "e130dbe9-65a4-4313-babf-e968664664ea",
   "metadata": {},
   "outputs": [],
   "source": [
    "pass"
   ]
  },
  {
   "cell_type": "code",
   "execution_count": null,
   "id": "b24a97bb",
   "metadata": {
    "lines_to_next_cell": 2
   },
   "outputs": [],
   "source": [
    "# Oul = PairOptimizer(curves=CCul)\n",
    "# On  = PairOptimizer(curves=CCn)\n",
    "# O0  = PairOptimizer(curves=CC0)\n",
    "# O   = PairOptimizer(curves=CC)\n",
    "# assert len(On.curves) == len(CC)+1\n",
    "# assert len(O0.curves) == len(CC)\n",
    "# assert len(O.curves) == len(CC)"
   ]
  },
  {
   "cell_type": "markdown",
   "id": "25709ff0",
   "metadata": {},
   "source": [
    "### Unlevered curves `CCul`"
   ]
  },
  {
   "cell_type": "markdown",
   "id": "c5f85525-a594-4ba4-8f66-0b50e01c2d4b",
   "metadata": {},
   "source": [
    "### Normalized curves `CCn`"
   ]
  },
  {
   "cell_type": "markdown",
   "id": "7dc90de9-eb44-4daf-9d1f-457abf989290",
   "metadata": {
    "lines_to_next_cell": 2
   },
   "source": [
    "### Failing optimization process `CC`"
   ]
  },
  {
   "cell_type": "markdown",
   "id": "2039a37d",
   "metadata": {},
   "source": [
    "## Charts [NOTEST]"
   ]
  },
  {
   "cell_type": "code",
   "execution_count": null,
   "id": "7aa98c10",
   "metadata": {},
   "outputs": [],
   "source": [
    "CC.plot()"
   ]
  },
  {
   "cell_type": "code",
   "execution_count": null,
   "id": "5c3fd4d7",
   "metadata": {},
   "outputs": [],
   "source": [
    "CCul.plot()"
   ]
  },
  {
   "cell_type": "code",
   "execution_count": null,
   "id": "4331dd96-51ba-4d10-833b-2634b92486e9",
   "metadata": {
    "tags": []
   },
   "outputs": [],
   "source": [
    "CCn.plot()"
   ]
  },
  {
   "cell_type": "code",
   "execution_count": null,
   "id": "fe61e08d-527f-4a63-93d5-c5c5fbc8490b",
   "metadata": {},
   "outputs": [],
   "source": [
    "CCas2.plot()"
   ]
  },
  {
   "cell_type": "code",
   "execution_count": null,
   "id": "945cf3ec-f41c-4aee-b0a9-dca1e0a247b5",
   "metadata": {
    "lines_to_next_cell": 0
   },
   "outputs": [],
   "source": [
    "#CCas3.plot()"
   ]
  },
  {
   "cell_type": "code",
   "execution_count": null,
   "id": "e4c09a2f-82c6-4b56-87dc-b45bf4325862",
   "metadata": {
    "lines_to_next_cell": 2
   },
   "outputs": [],
   "source": []
  }
 ],
 "metadata": {
  "jupytext": {
   "encoding": "# -*- coding: utf-8 -*-",
   "formats": "ipynb,py:light"
  },
  "kernelspec": {
   "display_name": "Python 3",
   "language": "python",
   "name": "python3"
  },
  "language_info": {
   "codemirror_mode": {
    "name": "ipython",
    "version": 3
   },
   "file_extension": ".py",
   "mimetype": "text/x-python",
   "name": "python",
   "nbconvert_exporter": "python",
   "pygments_lexer": "ipython3",
   "version": "3.8.8"
  }
 },
 "nbformat": 4,
 "nbformat_minor": 5
}
