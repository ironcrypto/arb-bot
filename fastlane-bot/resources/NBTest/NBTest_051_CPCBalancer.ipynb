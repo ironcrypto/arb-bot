{
 "cells": [
  {
   "cell_type": "code",
   "execution_count": 118,
   "id": "a448e212",
   "metadata": {},
   "outputs": [
    {
     "name": "stdout",
     "output_type": "stream",
     "text": [
      "ConstantProductCurve v3.3 (21/Sep/2023)\n"
     ]
    }
   ],
   "source": [
    "from fastlane_bot.tools.cpc import ConstantProductCurve as CPC, CurveBase\n",
    "from fastlane_bot.testing import *\n",
    "# from flbtools.cpc import ConstantProductCurve as CPC, CurveBase\n",
    "# from flbtesting import *\n",
    "\n",
    "from math import sqrt\n",
    "print(\"{0.__name__} v{0.__VERSION__} ({0.__DATE__})\".format(CPC))\n",
    "# from fastlane_bot import __VERSION__\n",
    "# require(\"3.0\", __VERSION__)"
   ]
  },
  {
   "cell_type": "markdown",
   "id": "d9917997",
   "metadata": {},
   "source": [
    "# CPC for Balancer [NBTest051]"
   ]
  },
  {
   "cell_type": "markdown",
   "id": "9a6b457a-3573-4387-8047-9ae88c5c607e",
   "metadata": {},
   "source": [
    "## pvec interface for CPC"
   ]
  },
  {
   "cell_type": "code",
   "execution_count": 119,
   "id": "5e055a74-6e99-4ffa-a450-5f53ae7695e5",
   "metadata": {},
   "outputs": [],
   "source": [
    "c0 = CPC.from_xy(100, 200)\n",
    "assert c0.tknx == \"TKNB\"\n",
    "assert c0.tkny == \"TKNQ\"\n",
    "k0 = c0.invariant()\n",
    "assert iseq(k0, sqrt(100*200))\n",
    "k1, k2 = c0.invariant(include_target=True)\n",
    "assert iseq(k0, k1, k2)"
   ]
  },
  {
   "cell_type": "code",
   "execution_count": 120,
   "id": "22004cc1-b2c4-4486-b16f-f8a7b4fbd1b8",
   "metadata": {},
   "outputs": [],
   "source": [
    "x,y,_ = c0.xyfromp_f(c0.p)\n",
    "xvec = c0.xvecfrompvec_f({c0.tknx: c0.p, c0.tkny: 1} )\n",
    "assert iseq(x, 100)\n",
    "assert iseq(y, 200)\n",
    "assert iseq(xvec[c0.tknx], x)\n",
    "assert iseq(xvec[c0.tkny], y)\n",
    "assert iseq(c0.invariant(), c0.invariant(xvec))\n",
    "assert raises(c0.xvecfrompvec_f, {c0.tknx: c0.p} ).startswith(\"pvec must contain\")\n",
    "assert raises(c0.xvecfrompvec_f, {c0.tkny: 1} ).startswith(\"pvec must contain\")"
   ]
  },
  {
   "cell_type": "code",
   "execution_count": 121,
   "id": "4138bcb3-0054-4077-8a0d-df39cb46f98f",
   "metadata": {},
   "outputs": [],
   "source": [
    "p = 1.5*c0.p\n",
    "x,y,_ = c0.xyfromp_f(p)\n",
    "xvec  = c0.xvecfrompvec_f({c0.tknx: p, c0.tkny: 1} )\n",
    "xvec2 = c0.xvecfrompvec_f({c0.tknx: 3*p, c0.tkny: 3} )\n",
    "xvec3 = c0.xvecfrompvec_f({c0.tknx: 3*p, c0.tkny: 3, \"ETH\": 15, \"BTC\": 300} )\n",
    "assert xvec == xvec2\n",
    "assert xvec == xvec3\n",
    "assert iseq(x, 81.64965809277261)\n",
    "assert iseq(y, 244.9489742783178)\n",
    "assert iseq(xvec[c0.tknx], x)\n",
    "assert iseq(xvec[c0.tkny], y)\n",
    "assert iseq(c0.invariant(), c0.invariant(xvec))"
   ]
  },
  {
   "cell_type": "code",
   "execution_count": 122,
   "id": "ffa625ad-6ca5-40fe-b20a-bede3249cc7e",
   "metadata": {},
   "outputs": [],
   "source": [
    "dx,dy,_ = c0.dxdyfromp_f(c0.p)\n",
    "dxvec = c0.dxvecfrompvec_f({c0.tknx: c0.p, c0.tkny: 1} )\n",
    "assert abs(dx)<1e-10\n",
    "assert abs(dy)<1e-10\n",
    "assert iseq(dxvec[c0.tknx], dx)\n",
    "assert iseq(dxvec[c0.tkny], dy)\n",
    "assert raises(c0.dxvecfrompvec_f, {c0.tknx: c0.p} ).startswith(\"pvec must contain\")\n",
    "assert raises(c0.dxvecfrompvec_f, {c0.tkny: 1} ).startswith(\"pvec must contain\")"
   ]
  },
  {
   "cell_type": "code",
   "execution_count": 123,
   "id": "4975e630-45ba-4ac2-95ed-2809b6488f4a",
   "metadata": {},
   "outputs": [],
   "source": [
    "p = 1.5*c0.p\n",
    "dx,dy,_ = c0.dxdyfromp_f(p)\n",
    "dxvec  = c0.dxvecfrompvec_f({c0.tknx: p, c0.tkny: 1} )\n",
    "dxvec2 = c0.dxvecfrompvec_f({c0.tknx: 3*p, c0.tkny: 3} )\n",
    "dxvec3 = c0.dxvecfrompvec_f({c0.tknx: 3*p, c0.tkny: 3, \"ETH\": 15, \"BTC\": 300} )\n",
    "assert dxvec == dxvec2\n",
    "assert dxvec == dxvec3\n",
    "assert iseq(dx, -18.35034190722739)\n",
    "assert iseq(dy, 44.94897427831779)\n",
    "assert iseq(dxvec[c0.tknx], dx)\n",
    "assert iseq(dxvec[c0.tkny], dy)"
   ]
  },
  {
   "cell_type": "markdown",
   "id": "bc39d223-0e37-43f4-86f0-1c07105cb321",
   "metadata": {},
   "source": [
    "## CurveBase"
   ]
  },
  {
   "cell_type": "markdown",
   "id": "1bb551a7-0e40-4758-ae87-1d1b30f12a3f",
   "metadata": {},
   "source": [
    "Checking that `CurveBase` can only instantiate with all functions defined"
   ]
  },
  {
   "cell_type": "code",
   "execution_count": 124,
   "id": "5ba59a93-f792-428a-8381-56f3b4b3fd30",
   "metadata": {},
   "outputs": [],
   "source": [
    "class CB1(CurveBase):\n",
    "    pass\n",
    "\n",
    "class CB2(CurveBase):\n",
    "    def dxvecfrompvec_f(self, pvec, *, ignorebounds=False):\n",
    "        pass\n",
    "\n",
    "class CB3(CurveBase):\n",
    "    def xvecfrompvec_f(self, pvec, *, ignorebounds=False):\n",
    "        pass\n",
    "\n",
    "class CB4(CurveBase):\n",
    "    def xvecfrompvec_f(self, pvec, *, ignorebounds=False):\n",
    "        pass\n",
    "    def dxvecfrompvec_f(self, pvec, *, ignorebounds=False):\n",
    "        pass\n",
    "    def invariant(self, xvec=None, *, include_target=False):\n",
    "        pass\n",
    "    \n",
    "assert raises(CB1).startswith(\"Can't instantiate abstract class\")\n",
    "assert raises(CB2).startswith(\"Can't instantiate abstract class\")\n",
    "assert raises(CB3).startswith(\"Can't instantiate abstract class\")\n",
    "assert not raises(CB4)"
   ]
  },
  {
   "cell_type": "code",
   "execution_count": 125,
   "id": "afb61a79-c802-41f0-bafa-4d2ae4bc82d5",
   "metadata": {},
   "outputs": [],
   "source": [
    "assert isinstance(CPC.from_xy(100, 200), CurveBase)"
   ]
  },
  {
   "cell_type": "markdown",
   "id": "521e4bc5-f003-4062-8978-18506ecff248",
   "metadata": {},
   "source": [
    "## Constant product constructor"
   ]
  },
  {
   "cell_type": "code",
   "execution_count": 126,
   "id": "c5cf94f7-77df-412c-9988-7085184bdd1f",
   "metadata": {},
   "outputs": [
    {
     "data": {
      "text/plain": [
       "ConstantProductCurve(k=20000, x=100, x_act=100, y_act=200.0, alpha=0.5, pair='TKNB/TKNQ', cid='None', fee=None, descr=None, constr='xy', params={})"
      ]
     },
     "execution_count": 126,
     "metadata": {},
     "output_type": "execute_result"
    }
   ],
   "source": [
    "c0 = CPC.from_xy(100, 200)\n",
    "assert c0.x == 100\n",
    "assert c0.y == 200\n",
    "assert c0.k == 20000\n",
    "assert c0.x == c0.x_act\n",
    "assert c0.y == c0.y_act\n",
    "assert c0.alpha == 0.5\n",
    "assert c0.eta == 1\n",
    "assert c0.constr == \"xy\"\n",
    "assert c0.is_constant_product() == True\n",
    "c0"
   ]
  },
  {
   "cell_type": "code",
   "execution_count": 127,
   "id": "9eb7484e-a09a-4184-bd59-073a7b399b8a",
   "metadata": {},
   "outputs": [],
   "source": [
    "assert c0.asdict() == {\n",
    "    'k': 20000,\n",
    "    'x': 100,\n",
    "    'x_act': 100,\n",
    "    'y_act': 200.0,\n",
    "    'alpha': 0.5,\n",
    "    'pair': 'TKNB/TKNQ',\n",
    "    'cid': 'None',\n",
    "    'fee': None,\n",
    "    'descr': None,\n",
    "    'constr': 'xy',\n",
    "    'params': {}\n",
    "}"
   ]
  },
  {
   "cell_type": "code",
   "execution_count": 128,
   "id": "2b12d88d-6d7d-4d39-b9bc-def990500df7",
   "metadata": {},
   "outputs": [
    {
     "data": {
      "text/plain": [
       "ConstantProductCurve(k=20000.0, x=100, x_act=100, y_act=200.0, alpha=0.5, pair='TKNB/TKNQ', cid='None', fee=None, descr=None, constr='xyal', params={})"
      ]
     },
     "execution_count": 128,
     "metadata": {},
     "output_type": "execute_result"
    }
   ],
   "source": [
    "c1 = CPC.from_xyal(100, 200)\n",
    "assert c1.constr == \"xyal\"\n",
    "assert c1.is_constant_product() == True\n",
    "assert c1==c0\n",
    "c1"
   ]
  },
  {
   "cell_type": "code",
   "execution_count": 129,
   "id": "fc98b1e0-0771-4cd6-877c-b70e74b548b8",
   "metadata": {},
   "outputs": [],
   "source": [
    "assert c1.asdict() == {\n",
    "    'k': 20000,\n",
    "    'x': 100,\n",
    "    'x_act': 100,\n",
    "    'y_act': 200.0,\n",
    "    'alpha': 0.5,\n",
    "    'pair': 'TKNB/TKNQ',\n",
    "    'cid': 'None',\n",
    "    'fee': None,\n",
    "    'descr': None,\n",
    "    'constr': 'xyal',\n",
    "    'params': {}\n",
    "}"
   ]
  },
  {
   "cell_type": "code",
   "execution_count": 130,
   "id": "f6ededab-423a-489e-8d1b-295162fda59b",
   "metadata": {},
   "outputs": [
    {
     "data": {
      "text/plain": [
       "ConstantProductCurve(k=20000.0, x=100, x_act=100, y_act=200.0, alpha=0.5, pair='TKNB/TKNQ', cid='None', fee=None, descr=None, constr='xyal', params={})"
      ]
     },
     "execution_count": 130,
     "metadata": {},
     "output_type": "execute_result"
    }
   ],
   "source": [
    "c2 = CPC.from_xyal(100, 200, alpha=0.5)\n",
    "assert c2.constr == \"xyal\"\n",
    "assert c2.is_constant_product() == True\n",
    "assert c2==c0\n",
    "assert c2.asdict() == c1.asdict()\n",
    "c2"
   ]
  },
  {
   "cell_type": "code",
   "execution_count": 131,
   "id": "203e5e7b-1cde-4154-a75c-35068f018a21",
   "metadata": {},
   "outputs": [
    {
     "data": {
      "text/plain": [
       "ConstantProductCurve(k=20000.0, x=100, x_act=100, y_act=200.0, alpha=0.5, pair='TKNB/TKNQ', cid='None', fee=None, descr=None, constr='xyal', params={})"
      ]
     },
     "execution_count": 131,
     "metadata": {},
     "output_type": "execute_result"
    }
   ],
   "source": [
    "c3 = CPC.from_xyal(100, 200, eta=1)\n",
    "assert c3.constr == \"xyal\"\n",
    "assert c3.is_constant_product() == True\n",
    "assert c3==c0\n",
    "assert c3.asdict() == c1.asdict()\n",
    "c3"
   ]
  },
  {
   "cell_type": "code",
   "execution_count": 132,
   "id": "ee693b31-3278-46d2-a578-ba6e0b2c6333",
   "metadata": {},
   "outputs": [],
   "source": [
    "assert raises(CPC.from_xyal, 100, 200, \n",
    "       alpha=0.5, eta=1) == 'at most one of alpha and eta must be given [0.5, 1]'"
   ]
  },
  {
   "cell_type": "markdown",
   "id": "9f8986b6-0d20-4a26-9dbe-19c20eb40034",
   "metadata": {},
   "source": [
    "## Weighted constructor"
   ]
  },
  {
   "cell_type": "code",
   "execution_count": 133,
   "id": "2331941a-3aeb-4fa3-887a-6ed45c37307b",
   "metadata": {},
   "outputs": [
    {
     "data": {
      "text/plain": [
       "ConstantProductCurve(k=20000, x=100, x_act=100, y_act=200.0, alpha=0.5, pair='TKNB/TKNQ', cid='None', fee=None, descr=None, constr='xy', params={})"
      ]
     },
     "execution_count": 133,
     "metadata": {},
     "output_type": "execute_result"
    }
   ],
   "source": [
    "c0 = CPC.from_xy(100, 200)\n",
    "assert c0.x == 100\n",
    "assert c0.y == 200\n",
    "assert c0.k == 20000\n",
    "assert c0.x == c0.x_act\n",
    "assert c0.y == c0.y_act\n",
    "assert c0.alpha == 0.5\n",
    "assert c0.eta == 1\n",
    "assert c0.constr == \"xy\"\n",
    "assert iseq(c0.invariant(), c0.kbar)\n",
    "assert c0.is_constant_product() == True\n",
    "c0"
   ]
  },
  {
   "cell_type": "code",
   "execution_count": null,
   "id": "00857b2e-d9af-41ce-a41f-c52b373fcd3a",
   "metadata": {},
   "outputs": [],
   "source": []
  },
  {
   "cell_type": "code",
   "execution_count": 134,
   "id": "db5f6d9a-87c3-4bba-9bbc-32993d2c09a7",
   "metadata": {},
   "outputs": [
    {
     "data": {
      "text/plain": [
       "ConstantProductCurve(k=20000.0, x=100, x_act=100, y_act=200.0, alpha=0.5, pair='TKNB/TKNQ', cid='None', fee=None, descr=None, constr='xyal', params={})"
      ]
     },
     "execution_count": 134,
     "metadata": {},
     "output_type": "execute_result"
    }
   ],
   "source": [
    "c1 = CPC.from_xyal(100, 200)\n",
    "assert c1.constr == \"xyal\"\n",
    "assert c1.is_constant_product() == True\n",
    "assert c1 == c0\n",
    "assert c1.asdict()[\"alpha\"] == 0.5\n",
    "assert iseq(c1.invariant(), c1.kbar)\n",
    "c1"
   ]
  },
  {
   "cell_type": "code",
   "execution_count": 135,
   "id": "02dc9cc9-d30e-4daf-9f7d-11f9bd60ad04",
   "metadata": {},
   "outputs": [
    {
     "data": {
      "text/plain": [
       "ConstantProductCurve(k=800000000.0, x=100, x_act=100, y_act=199.99999999999994, alpha=0.25, pair='TKNB/TKNQ', cid='None', fee=None, descr=None, constr='xyal', params={})"
      ]
     },
     "execution_count": 135,
     "metadata": {},
     "output_type": "execute_result"
    }
   ],
   "source": [
    "c2 = CPC.from_xyal(100, 200, alpha=0.25)\n",
    "assert c2.constr == \"xyal\"\n",
    "assert c2.is_constant_product() == False\n",
    "assert c2.alpha == 0.25\n",
    "assert c2.asdict()[\"alpha\"] == 0.25\n",
    "assert iseq(c2.eta, 0.25/0.75)\n",
    "assert iseq(c2.invariant(), c2.kbar)\n",
    "assert c2 != c0\n",
    "assert c2 != c1\n",
    "c2"
   ]
  },
  {
   "cell_type": "code",
   "execution_count": 136,
   "id": "f48bec87-6674-4a5c-8a15-562c5caff154",
   "metadata": {},
   "outputs": [
    {
     "data": {
      "text/plain": [
       "ConstantProductCurve(k=800000000.0, x=100, x_act=100, y_act=199.99999999999994, alpha=0.25, pair='TKNB/TKNQ', cid='None', fee=None, descr=None, constr='xyal', params={})"
      ]
     },
     "execution_count": 136,
     "metadata": {},
     "output_type": "execute_result"
    }
   ],
   "source": [
    "c3 = CPC.from_xyal(100, 200, alpha=0.8)\n",
    "assert c3.constr == \"xyal\"\n",
    "assert c3.is_constant_product() == False\n",
    "assert iseq(c3.alpha, 0.8)\n",
    "assert c3.asdict()[\"alpha\"] == 0.8\n",
    "assert iseq(c3.eta, 0.8/0.2)\n",
    "assert iseq(c3.invariant(), c3.kbar)\n",
    "assert c3 != c0\n",
    "assert c3 != c1\n",
    "assert c3 != c2\n",
    "c2"
   ]
  },
  {
   "cell_type": "code",
   "execution_count": 137,
   "id": "4dc4a1f6-1d71-4f1d-b0a0-616f83fb58e8",
   "metadata": {},
   "outputs": [
    {
     "data": {
      "text/plain": [
       "ConstantProductCurve(k=376.06030930863926, x=100, x_act=100, y_act=200.0, alpha=0.8, pair='TKNB/TKNQ', cid='None', fee=None, descr=None, constr='xyal', params={})"
      ]
     },
     "execution_count": 137,
     "metadata": {},
     "output_type": "execute_result"
    }
   ],
   "source": [
    "c3b = CPC.fromdict(c3.asdict())\n",
    "assert c3b == c3\n",
    "c3b"
   ]
  },
  {
   "cell_type": "code",
   "execution_count": 138,
   "id": "8caba1ff-65e7-496e-adcf-aea4cddcee4b",
   "metadata": {},
   "outputs": [],
   "source": [
    "assert raises(CPC.from_xyal,100, 200, alpha=0) == 'alpha must be > 0 [0]'\n",
    "assert raises(CPC.from_xyal,100, 200, alpha=-1) == 'alpha must be > 0 [-1]'\n",
    "assert raises(CPC.from_xyal,100, 200, alpha=1) == 'alpha must be < 1 [1]'\n",
    "assert raises(CPC.from_xyal,100, 200, alpha=2) == 'alpha must be < 1 [2]'"
   ]
  },
  {
   "cell_type": "code",
   "execution_count": 139,
   "id": "b54669fb-a128-41ae-a3ac-b9eff553f897",
   "metadata": {},
   "outputs": [
    {
     "data": {
      "text/plain": [
       "'alpha must be > 0 [0]'"
      ]
     },
     "execution_count": 139,
     "metadata": {},
     "output_type": "execute_result"
    }
   ],
   "source": [
    "raises(CPC.from_xyal,100, 200, alpha=0)"
   ]
  },
  {
   "cell_type": "code",
   "execution_count": 140,
   "id": "c4630e2a-b577-410b-8251-1c327866c9f1",
   "metadata": {},
   "outputs": [],
   "source": [
    "assert not raises(CPC.from_xyal,100, 200, alpha=1-1e-10)\n",
    "assert not raises(CPC.from_xyal,100, 200, alpha=0.01)"
   ]
  },
  {
   "cell_type": "code",
   "execution_count": 141,
   "id": "c8c740c3-3ffb-4694-95dc-2932b7d39c6c",
   "metadata": {},
   "outputs": [
    {
     "data": {
      "text/plain": [
       "\"(34, 'Result too large')\""
      ]
     },
     "execution_count": 141,
     "metadata": {},
     "output_type": "execute_result"
    }
   ],
   "source": [
    "raises(CPC.from_xyal,100, 200, alpha=0.001)"
   ]
  },
  {
   "cell_type": "markdown",
   "id": "448e83dd-7f7d-4233-a129-729b31168667",
   "metadata": {},
   "source": [
    "## High level testing of all functions\n",
    "\n",
    "(including not YET implemented)"
   ]
  },
  {
   "cell_type": "code",
   "execution_count": 142,
   "id": "fd739374-c01b-432e-ab80-98e35fda3674",
   "metadata": {},
   "outputs": [
    {
     "data": {
      "text/plain": [
       "ConstantProductCurve(k=20000.0, x=100, x_act=100, y_act=200.0, alpha=0.5, pair='TKNB/TKNQ', cid='None', fee=None, descr=None, constr='xyal', params={})"
      ]
     },
     "execution_count": 142,
     "metadata": {},
     "output_type": "execute_result"
    }
   ],
   "source": [
    "c0 = CPC.from_xyal(100, 200)\n",
    "assert c0.is_constant_product() == True\n",
    "c0"
   ]
  },
  {
   "cell_type": "code",
   "execution_count": 143,
   "id": "927269a5-0c16-4336-8fcf-3e22392c8847",
   "metadata": {},
   "outputs": [
    {
     "data": {
      "text/plain": [
       "ConstantProductCurve(k=800000000.0, x=100, x_act=100, y_act=199.99999999999994, alpha=0.25, pair='TKNB/TKNQ', cid='None', fee=None, descr=None, constr='xyal', params={})"
      ]
     },
     "execution_count": 143,
     "metadata": {},
     "output_type": "execute_result"
    }
   ],
   "source": [
    "c1 = CPC.from_xyal(100, 200, alpha=0.25)\n",
    "assert c1.is_constant_product() == False\n",
    "c1"
   ]
  },
  {
   "cell_type": "markdown",
   "id": "dfa26d63-4a6b-4dbc-ac1a-f1f3ad1d2a0c",
   "metadata": {},
   "source": [
    "#### Not (yet) implemented functions\n",
    "\n",
    "Those function groups are not currently planned to be implemented at all\n",
    "\n",
    "- `execute` as there is no need to simulate those curves for the time being; that was a Carbon thing\n",
    "\n",
    "The functions we may implement at a later stage are\n",
    "\n",
    "- `description` should probably be updated, but it is tedious; `format` ditto\n",
    "- `x_max`, `x_min`, `p_max`, `p_min` and the other leverage functions once we consider it important and safe"
   ]
  },
  {
   "cell_type": "markdown",
   "id": "f02b6b1f-e11c-46c7-8ce4-a320b1200432",
   "metadata": {},
   "source": [
    "execute"
   ]
  },
  {
   "cell_type": "code",
   "execution_count": 144,
   "id": "30239c29-9c2d-4a35-b24e-593e27d23013",
   "metadata": {},
   "outputs": [],
   "source": [
    "assert not raises(c0.execute)\n",
    "assert raises(c1.execute).startswith(\"only implemented for\")"
   ]
  },
  {
   "cell_type": "markdown",
   "id": "ce3aa2c2-13e3-43a4-ae06-0815781f1dc1",
   "metadata": {},
   "source": [
    "description and format"
   ]
  },
  {
   "cell_type": "code",
   "execution_count": 145,
   "id": "31973a9d-f6fc-4ba6-8660-3ca6b3b31238",
   "metadata": {},
   "outputs": [],
   "source": [
    "assert not raises(c0.description)\n",
    "assert raises(c1.description).startswith(\"only implemented for\")"
   ]
  },
  {
   "cell_type": "code",
   "execution_count": 146,
   "id": "6da717da-0e96-4af5-a011-74c54c5a8033",
   "metadata": {},
   "outputs": [],
   "source": [
    "assert not raises(c0.format)\n",
    "assert raises(c1.format).startswith(\"only implemented for\")"
   ]
  },
  {
   "cell_type": "markdown",
   "id": "85e0d16e-e9f6-4474-b334-19276c5c596a",
   "metadata": {},
   "source": [
    "leverage related functions (primary)"
   ]
  },
  {
   "cell_type": "code",
   "execution_count": 147,
   "id": "22c10615-7636-4ec9-ba02-01e9c58ad20d",
   "metadata": {},
   "outputs": [],
   "source": [
    "assert not raises(lambda: c0.p_max)\n",
    "assert not raises(lambda: c1.p_max)"
   ]
  },
  {
   "cell_type": "code",
   "execution_count": 148,
   "id": "b63b25fa-8f4a-415d-b0c5-8d10be06f91b",
   "metadata": {},
   "outputs": [],
   "source": [
    "assert not raises(lambda: c0.p_min)\n",
    "assert not raises(lambda: c1.p_min)"
   ]
  },
  {
   "cell_type": "code",
   "execution_count": 149,
   "id": "1e2a97a5-240b-49b4-abdc-f30b3b1e2788",
   "metadata": {},
   "outputs": [],
   "source": [
    "assert not raises(lambda: c0.x_min)\n",
    "assert not raises(lambda: c1.x_min)"
   ]
  },
  {
   "cell_type": "code",
   "execution_count": 150,
   "id": "98262a43-8c8e-4eb2-af03-6c7f082a9a5e",
   "metadata": {},
   "outputs": [],
   "source": [
    "assert not raises(lambda: c0.x_max)\n",
    "assert not raises(lambda: c1.x_max)"
   ]
  },
  {
   "cell_type": "code",
   "execution_count": 151,
   "id": "b3049924-bc62-44c3-b7fc-0c5513544b87",
   "metadata": {},
   "outputs": [],
   "source": [
    "assert not raises(lambda: c0.y_min)\n",
    "assert not raises(lambda: c1.y_min)"
   ]
  },
  {
   "cell_type": "code",
   "execution_count": 152,
   "id": "9809fe75-81eb-4117-b06f-ea80e8e5d1af",
   "metadata": {},
   "outputs": [],
   "source": [
    "assert not raises(lambda: c0.y_max)\n",
    "assert not raises(lambda: c1.y_max)"
   ]
  },
  {
   "cell_type": "markdown",
   "id": "162d55a7-94b2-4470-809a-5cf59c6fc6de",
   "metadata": {},
   "source": [
    "leverage related functions (secondary, ie calling primary ones)"
   ]
  },
  {
   "cell_type": "code",
   "execution_count": 153,
   "id": "d53b7a88-b1b2-488f-b33e-cf85af69dad2",
   "metadata": {},
   "outputs": [],
   "source": [
    "assert not raises(c0.p_max_primary)\n",
    "assert not raises(c1.p_max_primary)"
   ]
  },
  {
   "cell_type": "code",
   "execution_count": 154,
   "id": "47628578-dfab-4a28-a46f-b83b12af7745",
   "metadata": {},
   "outputs": [],
   "source": [
    "assert not raises(c0.p_min_primary)\n",
    "assert not raises(c1.p_min_primary)"
   ]
  },
  {
   "cell_type": "code",
   "execution_count": 155,
   "id": "818af0e4",
   "metadata": {},
   "outputs": [],
   "source": [
    "assert not raises(lambda: c0.at_xmin)\n",
    "assert not raises(lambda: c1.at_xmin)"
   ]
  },
  {
   "cell_type": "code",
   "execution_count": 156,
   "id": "bac20004",
   "metadata": {},
   "outputs": [],
   "source": [
    "assert not raises(lambda: c0.at_xmax)\n",
    "assert not raises(lambda: c1.at_xmax)"
   ]
  },
  {
   "cell_type": "code",
   "execution_count": 157,
   "id": "490db431",
   "metadata": {},
   "outputs": [],
   "source": [
    "assert not raises(lambda: c0.at_ymin)\n",
    "assert not raises(lambda: c1.at_ymin)"
   ]
  },
  {
   "cell_type": "code",
   "execution_count": 158,
   "id": "bc7fda17",
   "metadata": {},
   "outputs": [],
   "source": [
    "assert not raises(lambda: c0.at_ymax)\n",
    "assert not raises(lambda: c1.at_ymax)"
   ]
  },
  {
   "cell_type": "code",
   "execution_count": 159,
   "id": "d1637e16-ae56-45f6-bb90-b10cd5e83194",
   "metadata": {},
   "outputs": [],
   "source": [
    "assert not raises(lambda: c0.at_boundary)\n",
    "assert not raises(lambda: c1.at_boundary)"
   ]
  },
  {
   "cell_type": "markdown",
   "id": "faeae9de-470f-4a8d-82a5-0edf1558ba09",
   "metadata": {},
   "source": [
    "todo"
   ]
  },
  {
   "cell_type": "code",
   "execution_count": 160,
   "id": "4a70d47e-3a89-452d-80f3-d69028433648",
   "metadata": {},
   "outputs": [],
   "source": [
    "assert not raises(c0.xyfromp_f)\n",
    "assert not raises(c1.xyfromp_f)"
   ]
  },
  {
   "cell_type": "code",
   "execution_count": 161,
   "id": "a1bbada5-9cd2-4dd0-a226-fb7422614b53",
   "metadata": {},
   "outputs": [],
   "source": [
    "assert not raises(c0.dxdyfromp_f)\n",
    "assert not raises(c1.dxdyfromp_f)"
   ]
  },
  {
   "cell_type": "markdown",
   "id": "1d79b5fb-32b4-47f6-a852-f10e508d3fc4",
   "metadata": {},
   "source": [
    "#### Implemented functions"
   ]
  },
  {
   "cell_type": "code",
   "execution_count": 162,
   "id": "d90a02d0-21c9-47dc-894c-82ea93b01779",
   "metadata": {},
   "outputs": [],
   "source": [
    "assert not raises(lambda: c0.y)\n",
    "assert not raises(lambda: c1.y)"
   ]
  },
  {
   "cell_type": "code",
   "execution_count": 163,
   "id": "052b8feb-038e-457a-a3f1-8ff25b030a0e",
   "metadata": {},
   "outputs": [],
   "source": [
    "assert not raises(lambda: c0.p)\n",
    "assert not raises(lambda: c1.p)"
   ]
  },
  {
   "cell_type": "code",
   "execution_count": 164,
   "id": "8872ba9c-2186-4176-add5-4a36b66162a4",
   "metadata": {},
   "outputs": [],
   "source": [
    "assert not raises(lambda: c0.kbar)\n",
    "assert not raises(lambda: c1.kbar)"
   ]
  },
  {
   "cell_type": "code",
   "execution_count": 165,
   "id": "795eac9c-fe49-447f-b3fe-c0268cdd20de",
   "metadata": {},
   "outputs": [],
   "source": [
    "assert not raises(c0.tvl)\n",
    "assert not raises(c1.tvl)"
   ]
  },
  {
   "cell_type": "code",
   "execution_count": 166,
   "id": "13b1f308-3062-4872-a91e-e89bccf17cf8",
   "metadata": {},
   "outputs": [],
   "source": [
    "assert not raises(c0.yfromx_f, 110)\n",
    "assert not raises(c1.yfromx_f, 110, ignorebounds=True)\n",
    "assert not raises(c1.yfromx_f, 110, ignorebounds=False)"
   ]
  },
  {
   "cell_type": "code",
   "execution_count": 167,
   "id": "b90b56dd-bc10-4087-a3f4-5c0b8bcc681a",
   "metadata": {},
   "outputs": [],
   "source": [
    "assert not raises(c0.xfromy_f, 210)\n",
    "assert not raises(c1.xfromy_f, 110, ignorebounds=True)\n",
    "assert not raises(c1.xfromy_f, 110, ignorebounds=False)"
   ]
  },
  {
   "cell_type": "code",
   "execution_count": 168,
   "id": "9b797a1f-2d04-42ae-a03f-4b9675a65ed3",
   "metadata": {},
   "outputs": [],
   "source": [
    "assert not raises(c0.dyfromdx_f, 1)\n",
    "assert not raises(c1.dyfromdx_f, 1, ignorebounds=True)\n",
    "assert not raises(c1.dyfromdx_f, 1, ignorebounds=False)"
   ]
  },
  {
   "cell_type": "code",
   "execution_count": 169,
   "id": "ee7cd754-fe9c-4fb8-848d-46dc2850c0cd",
   "metadata": {},
   "outputs": [],
   "source": [
    "assert not raises(c0.dxfromdy_f, 1)\n",
    "assert not raises(c1.dxfromdy_f, 1, ignorebounds=True)\n",
    "assert not raises(c1.dxfromdy_f, 1, ignorebounds=False)"
   ]
  },
  {
   "cell_type": "markdown",
   "id": "30cea356-d1ff-4f34-ad31-f4fbb89c69b3",
   "metadata": {},
   "source": [
    "## Simple Tests"
   ]
  },
  {
   "cell_type": "code",
   "execution_count": 170,
   "id": "6373dfe5-6d20-4c55-9f0b-80a8ac6e1e05",
   "metadata": {},
   "outputs": [],
   "source": [
    "c0 = CPC.from_xyal(100, 200)\n",
    "c1 = CPC.from_xyal(100, 200, eta=2)\n",
    "c2 = CPC.from_xyal(100, 200, eta=0.5)"
   ]
  },
  {
   "cell_type": "code",
   "execution_count": 171,
   "id": "81cb94ae-1fd1-4d63-9f59-e79274737d4d",
   "metadata": {},
   "outputs": [],
   "source": [
    "assert iseq(c0.alpha, 1/2)\n",
    "assert iseq(c1.alpha, 2/3)\n",
    "assert iseq(c2.alpha, 1/3)"
   ]
  },
  {
   "cell_type": "markdown",
   "id": "88b1ae49-2c71-4468-bb83-743cadb96b93",
   "metadata": {},
   "source": [
    "#### Current token balance $y$\n",
    "\n",
    "$$\n",
    "y = \\left( \\frac k x \\right)^\\eta\n",
    "$$"
   ]
  },
  {
   "cell_type": "code",
   "execution_count": 172,
   "id": "0eac45f7-ef6d-419d-8254-098858e7a529",
   "metadata": {},
   "outputs": [],
   "source": [
    "assert iseq(c0.y, 200)\n",
    "assert iseq(c1.y, 200)\n",
    "assert iseq(c2.y, 200)"
   ]
  },
  {
   "cell_type": "markdown",
   "id": "f08b3230-20b9-4b72-bd58-4f810a92991c",
   "metadata": {},
   "source": [
    "#### Current price $p$\n",
    "\n",
    "$$\n",
    "p = \\eta\\, \\frac y x\n",
    "$$"
   ]
  },
  {
   "cell_type": "code",
   "execution_count": 173,
   "id": "cc39342b-1304-4e7d-8594-950df18ffb6e",
   "metadata": {},
   "outputs": [],
   "source": [
    "assert iseq(c0.p, 2 * c0.eta)\n",
    "assert iseq(c1.p, 2 * c1.eta)\n",
    "assert iseq(c2.p, 2 * c2.eta)"
   ]
  },
  {
   "cell_type": "markdown",
   "id": "bddf7d0d-bbc5-427b-8b01-e4c069ff4e47",
   "metadata": {},
   "source": [
    "#### TVL\n",
    "\n",
    "$$\n",
    "\\mathrm{TVL} = x_a*p + y_a\n",
    "$$"
   ]
  },
  {
   "cell_type": "code",
   "execution_count": 174,
   "id": "80e3f97b-41b0-4263-b2e0-b02da963c60f",
   "metadata": {},
   "outputs": [],
   "source": [
    "assert c0.x == c0.x_act\n",
    "assert c0.y == c0.y_act\n",
    "assert c1.x == c1.x_act\n",
    "assert c1.y == c1.y_act\n",
    "assert c2.x == c2.x_act\n",
    "assert c2.y == c2.y_act"
   ]
  },
  {
   "cell_type": "code",
   "execution_count": 175,
   "id": "593fb93f-5d95-4796-9da6-abd79206ff3d",
   "metadata": {},
   "outputs": [],
   "source": [
    "assert iseq(c0.tvl(), 100 * c0.p + 200)\n",
    "assert iseq(c1.tvl(), 100 * c1.p + 200)\n",
    "assert iseq(c2.tvl(), 100 * c2.p + 200)"
   ]
  },
  {
   "cell_type": "markdown",
   "id": "98664ea1-c17d-4b42-854b-7b3db79c2b33",
   "metadata": {},
   "source": [
    "#### Pool constant $k$\n",
    "\n",
    "$$\n",
    "k^\\alpha = x^\\alpha\\, y^{1-\\alpha}\n",
    "$$\n",
    "\n",
    "$$\n",
    "k = x\\,y^\\frac{1-\\alpha}{\\alpha} = x\\,y^{\\frac 1 \\eta}\n",
    "$$\n"
   ]
  },
  {
   "cell_type": "code",
   "execution_count": 176,
   "id": "171b56b5-f270-4f51-8fd8-a185b3c0e91f",
   "metadata": {},
   "outputs": [],
   "source": [
    "assert iseq(c0.k**(1/2), c0.x**(1/2) * c0.y**(1/2))\n",
    "assert iseq(c1.k**(2/3), c1.x**(2/3) * c1.y**(1/3))\n",
    "assert iseq(c2.k**(1/3), c1.x**(1/3) * c1.y**(2/3))"
   ]
  },
  {
   "cell_type": "markdown",
   "id": "0b290a50-f765-4b62-8be6-19542281022b",
   "metadata": {},
   "source": [
    "#### Pool constant $\\bar k$\n",
    "\n",
    "$$\n",
    "x^\\alpha\\, y^{1-\\alpha} = \\bar k = k^\\alpha\n",
    "$$"
   ]
  },
  {
   "cell_type": "code",
   "execution_count": 177,
   "id": "01d3e5e2-aba4-434d-a118-15bd63e854db",
   "metadata": {},
   "outputs": [],
   "source": [
    "assert iseq(c0.kbar, c0.x**(1/2) * c0.y**(1/2))\n",
    "assert iseq(c1.kbar, c1.x**(2/3) * c1.y**(1/3))\n",
    "assert iseq(c2.kbar, c1.x**(1/3) * c1.y**(2/3))"
   ]
  },
  {
   "cell_type": "code",
   "execution_count": 178,
   "id": "0ae9f182-0f46-4fdd-9879-619cf3f6ecd2",
   "metadata": {},
   "outputs": [],
   "source": [
    "assert iseq(c0.kbar, c0.k**c0.alpha)\n",
    "assert iseq(c1.kbar, c1.k**c1.alpha)\n",
    "assert iseq(c2.kbar, c2.k**c2.alpha)"
   ]
  },
  {
   "cell_type": "markdown",
   "id": "d76dbd19-be45-4078-8896-35ba65d9d181",
   "metadata": {},
   "source": [
    "#### Token balance function $y(x)$\n",
    "\n",
    "$$\n",
    "y(x) = \\left( \\frac k x \\right)^\\eta\n",
    "$$"
   ]
  },
  {
   "cell_type": "code",
   "execution_count": 179,
   "id": "9ff8935e-1898-40b9-802f-09a7b2cc608c",
   "metadata": {},
   "outputs": [],
   "source": [
    "assert c0.eta == 1\n",
    "assert iseq(c0.yfromx_f(100, ignorebounds=True),  200)\n",
    "assert iseq(c0.yfromx_f( 50, ignorebounds=True),  400)\n",
    "assert iseq(c0.yfromx_f(200, ignorebounds=True),  100)"
   ]
  },
  {
   "cell_type": "code",
   "execution_count": 180,
   "id": "081ec8c2-768c-45a5-a478-1df3a55590ab",
   "metadata": {},
   "outputs": [],
   "source": [
    "assert iseq(c1.eta, 2)\n",
    "assert iseq(c1.yfromx_f(100, ignorebounds=True),  200)\n",
    "assert iseq(c1.yfromx_f( 50, ignorebounds=True),  200*2**2)\n",
    "assert iseq(c1.yfromx_f(200, ignorebounds=True),  200/2**2)"
   ]
  },
  {
   "cell_type": "code",
   "execution_count": 181,
   "id": "5f556205-299f-4f5c-b717-076a64137784",
   "metadata": {},
   "outputs": [],
   "source": [
    "assert iseq(c2.eta, 1/2)\n",
    "assert iseq(c2.yfromx_f(100, ignorebounds=True),  200)\n",
    "assert iseq(c2.yfromx_f( 50, ignorebounds=True),  200*sqrt(2))\n",
    "assert iseq(c2.yfromx_f(200, ignorebounds=True),  200/sqrt(2))"
   ]
  },
  {
   "cell_type": "markdown",
   "id": "0aabe321-cb4b-4c65-b84a-73493a95b740",
   "metadata": {},
   "source": [
    "#### Token balance function $x(y)$\n",
    "\n",
    "$$\n",
    "x(y) \n",
    "= \\frac{k}{ y^{\\frac{1-\\alpha}{\\alpha}} }\n",
    "= \\frac{k}{ y^{\\frac{1}{\\eta}} }\n",
    "$$"
   ]
  },
  {
   "cell_type": "code",
   "execution_count": 182,
   "id": "bfbc589d-2124-4c51-9ac9-a7a3034ebd67",
   "metadata": {},
   "outputs": [],
   "source": [
    "assert c0.eta == 1\n",
    "assert iseq(c0.xfromy_f(200, ignorebounds=True),  100)\n",
    "assert iseq(c0.xfromy_f(100, ignorebounds=True),  200)\n",
    "assert iseq(c0.xfromy_f(400, ignorebounds=True),   50)"
   ]
  },
  {
   "cell_type": "code",
   "execution_count": 183,
   "id": "fb276d33-72b0-406d-9f3d-9ce16354098b",
   "metadata": {},
   "outputs": [],
   "source": [
    "assert iseq(c1.eta, 2)\n",
    "assert iseq(c1.xfromy_f(200, ignorebounds=True),  100)\n",
    "assert iseq(c1.xfromy_f(100, ignorebounds=True),  100*2**0.5)\n",
    "assert iseq(c1.xfromy_f(400, ignorebounds=True),  100/2**0.5)"
   ]
  },
  {
   "cell_type": "code",
   "execution_count": 184,
   "id": "d55dd588-8a49-43c5-bf23-22fa207876fd",
   "metadata": {},
   "outputs": [],
   "source": [
    "assert iseq(c2.eta, 1/2)\n",
    "assert iseq(c2.xfromy_f(200, ignorebounds=True),  100)\n",
    "assert iseq(c2.xfromy_f(100, ignorebounds=True),  100*2**2)\n",
    "assert iseq(c2.xfromy_f(400, ignorebounds=True),  100/2**2)"
   ]
  },
  {
   "cell_type": "markdown",
   "id": "ea30dd5f-ae86-469c-8f9b-f7c43f9ed5a6",
   "metadata": {},
   "source": [
    "#### Price response function $(x(p), y(p))$\n",
    "\n",
    "$$\n",
    "x(p) \n",
    "= \n",
    "\\left(\\frac \\eta p\\right)^{1-\\alpha} k^\\alpha\n",
    "$$\n",
    "\n",
    "$$\n",
    "y(p) = \\left( \\frac{kp}{\\eta}  \\right)^\\alpha\n",
    "$$"
   ]
  },
  {
   "cell_type": "code",
   "execution_count": 185,
   "id": "eb60778c-edd0-42c5-8681-a259e02c1e91",
   "metadata": {},
   "outputs": [],
   "source": [
    "assert iseq(c0.xyfromp_f(c0.p, ignorebounds=True)[0], c0.x)\n",
    "assert iseq(c1.xyfromp_f(c1.p, ignorebounds=True)[0], c1.x)\n",
    "assert iseq(c2.xyfromp_f(c2.p, ignorebounds=True)[0], c2.x)"
   ]
  },
  {
   "cell_type": "code",
   "execution_count": 186,
   "id": "c242f036-c366-4c25-ab1d-9b13ff283d60",
   "metadata": {},
   "outputs": [],
   "source": [
    "assert iseq(c0.xyfromp_f(c0.p, ignorebounds=True)[1], c0.y)\n",
    "assert iseq(c1.xyfromp_f(c1.p, ignorebounds=True)[1], c1.y)\n",
    "assert iseq(c2.xyfromp_f(c2.p, ignorebounds=True)[1], c2.y)"
   ]
  },
  {
   "cell_type": "code",
   "execution_count": 187,
   "id": "1e39b3b6-ac20-4a7d-ab4a-f764cc949ee9",
   "metadata": {},
   "outputs": [],
   "source": [
    "for ci in [c0, c1, c2]:\n",
    "    for p in [2, 1, 4]:\n",
    "        eta_over_p = ci.eta / p\n",
    "        x = eta_over_p ** (1-ci.alpha) * ci.kbar\n",
    "        y = 1/eta_over_p**ci.alpha * ci.kbar\n",
    "        xx, yy, pp = ci.xyfromp_f  (p, ignorebounds=True)\n",
    "        dx, dy, _  = ci.dxdyfromp_f(p, ignorebounds=True)\n",
    "        assert iseq(x, xx)\n",
    "        assert iseq(y, yy)\n",
    "        assert iseq(p, pp)\n",
    "        assert iseq(dx, xx-ci.x)\n",
    "        assert iseq(dy, yy-ci.y)"
   ]
  },
  {
   "cell_type": "markdown",
   "id": "2105f1e3-cb98-4e4d-9c58-c144bc49c33e",
   "metadata": {},
   "source": [
    "## Consistency tests"
   ]
  },
  {
   "cell_type": "code",
   "execution_count": 188,
   "id": "8fd1d683-195a-414b-bfa2-2155462efcc1",
   "metadata": {},
   "outputs": [],
   "source": [
    "c0 = CPC.from_xyal(100, 200)\n",
    "c1 = CPC.from_xyal(100, 200, eta=2)\n",
    "c2 = CPC.from_xyal(100, 200, eta=0.5)\n",
    "cc = [c0, c1, c2]"
   ]
  },
  {
   "cell_type": "code",
   "execution_count": 189,
   "id": "c2a77208-d1d6-4d99-8fab-d8b9f988dac9",
   "metadata": {},
   "outputs": [],
   "source": [
    "assert iseq(c0.alpha, 1/2)\n",
    "assert iseq(c1.alpha, 2/3)\n",
    "assert iseq(c2.alpha, 1/3)"
   ]
  },
  {
   "cell_type": "markdown",
   "id": "902c8cd4-d13b-4b40-96cd-86bfe8a089e7",
   "metadata": {},
   "source": [
    "### Assert inversions\n",
    "\n",
    "$$\n",
    "y(x(y)) = y\n",
    "$$\n",
    "\n",
    "and vice versa"
   ]
  },
  {
   "cell_type": "code",
   "execution_count": 190,
   "id": "30a07eda-449f-471e-a609-f979d894d09a",
   "metadata": {},
   "outputs": [],
   "source": [
    "for xy in np.logspace(1, 3, 100):\n",
    "    for ci in cc:\n",
    "        #print(f\"xy={xy}, eta={ci.eta}\")\n",
    "        assert iseq(ci.yfromx_f(ci.xfromy_f(xy, ignorebounds=True), ignorebounds=True), xy)\n",
    "        assert iseq(ci.xfromy_f(ci.yfromx_f(xy, ignorebounds=True), ignorebounds=True), xy)"
   ]
  },
  {
   "cell_type": "markdown",
   "id": "6c20dda7-f50f-4d35-86b1-80a303d90a59",
   "metadata": {},
   "source": [
    "### Assert that prices are correct\n",
    "\n",
    "$$\n",
    "p \\simeq -\\frac{\\Delta y}{\\Delta x}\n",
    "$$"
   ]
  },
  {
   "cell_type": "code",
   "execution_count": 191,
   "id": "8826b280-00f7-4771-9bc6-2d5d344b197e",
   "metadata": {},
   "outputs": [],
   "source": [
    "for alpha in np.linspace(0.01, 0.99, 100):\n",
    "    ci = CPC.from_xyal(100, 200, alpha=alpha)\n",
    "    dy = ci.yfromx_f(ci.x+0.1, ignorebounds=True)-ci.yfromx_f(ci.x-0.1, ignorebounds=True)\n",
    "    assert iseq(dy/0.2, -ci.p, eps=1e-2), f\"error: {dy/0.2/ci.p+1}\""
   ]
  },
  {
   "cell_type": "markdown",
   "id": "b2944261-9291-496c-98f8-726b0ff26850",
   "metadata": {},
   "source": [
    "### Check `dyfromdx_f` against `yfromx_f`"
   ]
  },
  {
   "cell_type": "code",
   "execution_count": 192,
   "id": "853233ca-22bd-4d0e-a6d1-3dee13341b99",
   "metadata": {},
   "outputs": [],
   "source": [
    "for dxy in np.linspace(0.1, 99, 100):\n",
    "    for ci in cc:\n",
    "        assert iseq(ci.dyfromdx_f(dxy, ignorebounds=True),\n",
    "                    (ci.yfromx_f(ci.x+dxy, ignorebounds=True)-ci.y))\n",
    "        assert iseq(ci.dxfromdy_f(dxy, ignorebounds=True),\n",
    "                    (ci.xfromy_f(ci.y+dxy, ignorebounds=True)-ci.x))"
   ]
  },
  {
   "cell_type": "markdown",
   "id": "957ed182-572a-440c-bee2-1a1b33b4d06b",
   "metadata": {},
   "source": [
    "## Charts [NOTEST]"
   ]
  },
  {
   "cell_type": "code",
   "execution_count": 193,
   "id": "73dfd68b-56ba-4154-a1f8-79c8bddf4169",
   "metadata": {},
   "outputs": [],
   "source": [
    "plt.style.use('seaborn-v0_8-dark')\n",
    "plt.rcParams['figure.figsize'] = [12,6] # only picked up at second run (?!?)"
   ]
  },
  {
   "cell_type": "code",
   "execution_count": 194,
   "id": "bf52087a-ffb7-4dad-bffa-753983249b51",
   "metadata": {},
   "outputs": [],
   "source": [
    "c0 = CPC.from_xyal(100, 200)\n",
    "c1 = CPC.from_xyal(100, 200, eta=2)\n",
    "c2 = CPC.from_xyal(100, 200, eta=0.5)\n",
    "cc = [c0, c1, c2]\n",
    "xvals = np.linspace(50,200)\n",
    "pvals = np.linspace(1,4)"
   ]
  },
  {
   "cell_type": "code",
   "execution_count": 195,
   "id": "c3e74ed7-83cb-497d-82a8-4a8d38bf312d",
   "metadata": {},
   "outputs": [
    {
     "data": {
      "image/png": "[encoded data removed]",
      "text/plain": [
       "<Figure size 864x432 with 1 Axes>"
      ]
     },
     "metadata": {},
     "output_type": "display_data"
    }
   ],
   "source": [
    "for ci in cc:\n",
    "    plt.plot(xvals, [ci.yfromx_f(x, ignorebounds=True) for x in xvals], label=f\"eta={ci.eta:0.2f}\")\n",
    "plt.grid()\n",
    "plt.legend()\n",
    "plt.title(\"Indifference curve token balance y vs token balance x at different weights\")\n",
    "plt.xlabel(\"Token balance x [native units]\")\n",
    "plt.ylabel(\"Token balance y [native units]\")\n",
    "plt.show()"
   ]
  },
  {
   "cell_type": "code",
   "execution_count": 196,
   "id": "dcf6c394-8ad0-4ea1-a0fe-849374b16110",
   "metadata": {},
   "outputs": [
    {
     "data": {
      "image/png": "[encoded data removed]",
      "text/plain": [
       "<Figure size 864x432 with 1 Axes>"
      ]
     },
     "metadata": {},
     "output_type": "display_data"
    }
   ],
   "source": [
    "for ci in cc:\n",
    "    plt.plot(\n",
    "        xvals, \n",
    "        [\n",
    "            -(ci.yfromx_f(x+0.1, ignorebounds=True) - ci.yfromx_f(x-0.1, ignorebounds=True))/0.2\n",
    "            for x in xvals\n",
    "        \n",
    "        ], \n",
    "        label=f\"eta={ci.eta:0.2f}\")\n",
    "plt.grid()\n",
    "plt.legend()\n",
    "plt.title(\"Price vs token balance x at different weights\")\n",
    "plt.xlabel(\"Token balance x [native units]\")\n",
    "plt.ylabel(\"Price [dy/dx]\")\n",
    "plt.show()"
   ]
  },
  {
   "cell_type": "code",
   "execution_count": 197,
   "id": "3c8cbd59-5039-43bc-a52d-f05201e9e83b",
   "metadata": {},
   "outputs": [
    {
     "data": {
      "image/png": "[encoded data removed]",
      "text/plain": [
       "<Figure size 864x432 with 1 Axes>"
      ]
     },
     "metadata": {},
     "output_type": "display_data"
    }
   ],
   "source": [
    "for ci in cc:\n",
    "    plt.plot(\n",
    "        pvals, \n",
    "        [\n",
    "            ci.xyfromp_f(p, ignorebounds=True)[1]\n",
    "            for p in pvals\n",
    "        \n",
    "        ], \n",
    "        label=f\"eta={ci.eta:0.2f}\")\n",
    "plt.grid()\n",
    "plt.legend()\n",
    "plt.title(\"Token balance y vs price at different weights\")\n",
    "plt.xlabel(\"Price [dy/dx]\")\n",
    "plt.ylabel(\"Token balance y [native units]\")\n",
    "plt.show()"
   ]
  },
  {
   "cell_type": "code",
   "execution_count": null,
   "id": "6595e456-ca4b-4c4a-81e1-1ceba2924ec9",
   "metadata": {},
   "outputs": [],
   "source": []
  },
  {
   "cell_type": "code",
   "execution_count": null,
   "id": "d6b880eb-6fe9-41d3-920d-05552fde7469",
   "metadata": {},
   "outputs": [],
   "source": []
  }
 ],
 "metadata": {
  "jupytext": {
   "encoding": "# -*- coding: utf-8 -*-",
   "formats": "ipynb,py:light"
  },
  "kernelspec": {
   "display_name": "Python 3",
   "language": "python",
   "name": "python3"
  },
  "language_info": {
   "codemirror_mode": {
    "name": "ipython",
    "version": 3
   },
   "file_extension": ".py",
   "mimetype": "text/x-python",
   "name": "python",
   "nbconvert_exporter": "python",
   "pygments_lexer": "ipython3",
   "version": "3.8.8"
  }
 },
 "nbformat": 4,
 "nbformat_minor": 5
}
